{
 "cells": [
  {
   "cell_type": "code",
   "execution_count": 1,
   "id": "eecd94f0",
   "metadata": {},
   "outputs": [],
   "source": [
    "import pandas as pd\n",
    "import numpy as np\n",
    "import matplotlib.pyplot as plt\n",
    "import os"
   ]
  },
  {
   "cell_type": "code",
   "execution_count": 2,
   "id": "bd7dd1d0",
   "metadata": {},
   "outputs": [],
   "source": [
    "os.chdir(r'F:\\Ngoc Anh')"
   ]
  },
  {
   "cell_type": "code",
   "execution_count": 3,
   "id": "e80cd528",
   "metadata": {},
   "outputs": [
    {
     "data": {
      "text/plain": [
       "'F:\\\\Ngoc Anh'"
      ]
     },
     "execution_count": 3,
     "metadata": {},
     "output_type": "execute_result"
    }
   ],
   "source": [
    "os.getcwd()"
   ]
  },
  {
   "cell_type": "code",
   "execution_count": null,
   "id": "1a7f7f23",
   "metadata": {},
   "outputs": [],
   "source": []
  },
  {
   "cell_type": "code",
   "execution_count": null,
   "id": "41899a25",
   "metadata": {},
   "outputs": [],
   "source": [
    "# 1) Validating and cleaning data"
   ]
  },
  {
   "cell_type": "code",
   "execution_count": 4,
   "id": "a6de5a62",
   "metadata": {},
   "outputs": [],
   "source": [
    "df = pd.read_csv('mkt_data.csv')"
   ]
  },
  {
   "cell_type": "code",
   "execution_count": 5,
   "id": "c898ca66",
   "metadata": {},
   "outputs": [
    {
     "data": {
      "text/html": [
       "<div>\n",
       "<style scoped>\n",
       "    .dataframe tbody tr th:only-of-type {\n",
       "        vertical-align: middle;\n",
       "    }\n",
       "\n",
       "    .dataframe tbody tr th {\n",
       "        vertical-align: top;\n",
       "    }\n",
       "\n",
       "    .dataframe thead th {\n",
       "        text-align: right;\n",
       "    }\n",
       "</style>\n",
       "<table border=\"1\" class=\"dataframe\">\n",
       "  <thead>\n",
       "    <tr style=\"text-align: right;\">\n",
       "      <th></th>\n",
       "      <th>id</th>\n",
       "      <th>send_date</th>\n",
       "      <th>estimated_age</th>\n",
       "      <th>age_range</th>\n",
       "      <th>channel</th>\n",
       "      <th>coupon</th>\n",
       "      <th>clicked</th>\n",
       "      <th>last_step</th>\n",
       "      <th>nb_units</th>\n",
       "      <th>order_value</th>\n",
       "    </tr>\n",
       "  </thead>\n",
       "  <tbody>\n",
       "    <tr>\n",
       "      <th>0</th>\n",
       "      <td>1</td>\n",
       "      <td>2019-04-12</td>\n",
       "      <td>59</td>\n",
       "      <td>46-60</td>\n",
       "      <td>SMS</td>\n",
       "      <td>2</td>\n",
       "      <td>0</td>\n",
       "      <td>received</td>\n",
       "      <td>0</td>\n",
       "      <td>0</td>\n",
       "    </tr>\n",
       "    <tr>\n",
       "      <th>1</th>\n",
       "      <td>2</td>\n",
       "      <td>2019-04-08</td>\n",
       "      <td>27</td>\n",
       "      <td>18-30</td>\n",
       "      <td>Email</td>\n",
       "      <td>2</td>\n",
       "      <td>0</td>\n",
       "      <td>received</td>\n",
       "      <td>0</td>\n",
       "      <td>0</td>\n",
       "    </tr>\n",
       "    <tr>\n",
       "      <th>2</th>\n",
       "      <td>3</td>\n",
       "      <td>2019-04-05</td>\n",
       "      <td>74</td>\n",
       "      <td>60+</td>\n",
       "      <td>Email</td>\n",
       "      <td>2</td>\n",
       "      <td>0</td>\n",
       "      <td>received</td>\n",
       "      <td>0</td>\n",
       "      <td>0</td>\n",
       "    </tr>\n",
       "    <tr>\n",
       "      <th>3</th>\n",
       "      <td>4</td>\n",
       "      <td>2019-04-21</td>\n",
       "      <td>32</td>\n",
       "      <td>31-45</td>\n",
       "      <td>SMS</td>\n",
       "      <td>2</td>\n",
       "      <td>0</td>\n",
       "      <td>received</td>\n",
       "      <td>0</td>\n",
       "      <td>0</td>\n",
       "    </tr>\n",
       "    <tr>\n",
       "      <th>4</th>\n",
       "      <td>5</td>\n",
       "      <td>2019-04-28</td>\n",
       "      <td>42</td>\n",
       "      <td>31-45</td>\n",
       "      <td>Email</td>\n",
       "      <td>2</td>\n",
       "      <td>0</td>\n",
       "      <td>received</td>\n",
       "      <td>0</td>\n",
       "      <td>0</td>\n",
       "    </tr>\n",
       "    <tr>\n",
       "      <th>...</th>\n",
       "      <td>...</td>\n",
       "      <td>...</td>\n",
       "      <td>...</td>\n",
       "      <td>...</td>\n",
       "      <td>...</td>\n",
       "      <td>...</td>\n",
       "      <td>...</td>\n",
       "      <td>...</td>\n",
       "      <td>...</td>\n",
       "      <td>...</td>\n",
       "    </tr>\n",
       "    <tr>\n",
       "      <th>299995</th>\n",
       "      <td>299996</td>\n",
       "      <td>2019-04-26</td>\n",
       "      <td>23</td>\n",
       "      <td>18-30</td>\n",
       "      <td>Email</td>\n",
       "      <td>2</td>\n",
       "      <td>0</td>\n",
       "      <td>received</td>\n",
       "      <td>0</td>\n",
       "      <td>0</td>\n",
       "    </tr>\n",
       "    <tr>\n",
       "      <th>299996</th>\n",
       "      <td>299997</td>\n",
       "      <td>2019-04-30</td>\n",
       "      <td>52</td>\n",
       "      <td>46-60</td>\n",
       "      <td>SMS</td>\n",
       "      <td>4</td>\n",
       "      <td>0</td>\n",
       "      <td>received</td>\n",
       "      <td>0</td>\n",
       "      <td>0</td>\n",
       "    </tr>\n",
       "    <tr>\n",
       "      <th>299997</th>\n",
       "      <td>299998</td>\n",
       "      <td>2019-04-22</td>\n",
       "      <td>20</td>\n",
       "      <td>18-30</td>\n",
       "      <td>SMS</td>\n",
       "      <td>2</td>\n",
       "      <td>0</td>\n",
       "      <td>received</td>\n",
       "      <td>0</td>\n",
       "      <td>0</td>\n",
       "    </tr>\n",
       "    <tr>\n",
       "      <th>299998</th>\n",
       "      <td>299999</td>\n",
       "      <td>2019-04-04</td>\n",
       "      <td>53</td>\n",
       "      <td>46-60</td>\n",
       "      <td>SMS</td>\n",
       "      <td>2</td>\n",
       "      <td>0</td>\n",
       "      <td>received</td>\n",
       "      <td>0</td>\n",
       "      <td>0</td>\n",
       "    </tr>\n",
       "    <tr>\n",
       "      <th>299999</th>\n",
       "      <td>300000</td>\n",
       "      <td>2019-04-09</td>\n",
       "      <td>20</td>\n",
       "      <td>18-30</td>\n",
       "      <td>Email</td>\n",
       "      <td>2</td>\n",
       "      <td>0</td>\n",
       "      <td>received</td>\n",
       "      <td>0</td>\n",
       "      <td>0</td>\n",
       "    </tr>\n",
       "  </tbody>\n",
       "</table>\n",
       "<p>300000 rows × 10 columns</p>\n",
       "</div>"
      ],
      "text/plain": [
       "            id   send_date  estimated_age age_range channel  coupon  clicked  \\\n",
       "0            1  2019-04-12             59     46-60     SMS       2        0   \n",
       "1            2  2019-04-08             27     18-30   Email       2        0   \n",
       "2            3  2019-04-05             74       60+   Email       2        0   \n",
       "3            4  2019-04-21             32     31-45     SMS       2        0   \n",
       "4            5  2019-04-28             42     31-45   Email       2        0   \n",
       "...        ...         ...            ...       ...     ...     ...      ...   \n",
       "299995  299996  2019-04-26             23     18-30   Email       2        0   \n",
       "299996  299997  2019-04-30             52     46-60     SMS       4        0   \n",
       "299997  299998  2019-04-22             20     18-30     SMS       2        0   \n",
       "299998  299999  2019-04-04             53     46-60     SMS       2        0   \n",
       "299999  300000  2019-04-09             20     18-30   Email       2        0   \n",
       "\n",
       "       last_step  nb_units  order_value  \n",
       "0       received         0            0  \n",
       "1       received         0            0  \n",
       "2       received         0            0  \n",
       "3       received         0            0  \n",
       "4       received         0            0  \n",
       "...          ...       ...          ...  \n",
       "299995  received         0            0  \n",
       "299996  received         0            0  \n",
       "299997  received         0            0  \n",
       "299998  received         0            0  \n",
       "299999  received         0            0  \n",
       "\n",
       "[300000 rows x 10 columns]"
      ]
     },
     "execution_count": 5,
     "metadata": {},
     "output_type": "execute_result"
    }
   ],
   "source": [
    "df"
   ]
  },
  {
   "cell_type": "code",
   "execution_count": 6,
   "id": "521d17f4",
   "metadata": {},
   "outputs": [
    {
     "name": "stdout",
     "output_type": "stream",
     "text": [
      "<class 'pandas.core.frame.DataFrame'>\n",
      "RangeIndex: 300000 entries, 0 to 299999\n",
      "Data columns (total 10 columns):\n",
      " #   Column         Non-Null Count   Dtype \n",
      "---  ------         --------------   ----- \n",
      " 0   id             300000 non-null  int64 \n",
      " 1   send_date      300000 non-null  object\n",
      " 2   estimated_age  300000 non-null  int64 \n",
      " 3   age_range      300000 non-null  object\n",
      " 4   channel        300000 non-null  object\n",
      " 5   coupon         300000 non-null  int64 \n",
      " 6   clicked        300000 non-null  int64 \n",
      " 7   last_step      300000 non-null  object\n",
      " 8   nb_units       300000 non-null  int64 \n",
      " 9   order_value    300000 non-null  int64 \n",
      "dtypes: int64(6), object(4)\n",
      "memory usage: 22.9+ MB\n"
     ]
    }
   ],
   "source": [
    "# Checking data integrity\n",
    "df.info()"
   ]
  },
  {
   "cell_type": "code",
   "execution_count": 7,
   "id": "d584054f",
   "metadata": {},
   "outputs": [
    {
     "data": {
      "text/plain": [
       "id               0\n",
       "send_date        0\n",
       "estimated_age    0\n",
       "age_range        0\n",
       "channel          0\n",
       "coupon           0\n",
       "clicked          0\n",
       "last_step        0\n",
       "nb_units         0\n",
       "order_value      0\n",
       "dtype: int64"
      ]
     },
     "execution_count": 7,
     "metadata": {},
     "output_type": "execute_result"
    }
   ],
   "source": [
    "# Check if any column has null value\n",
    "df.isna().sum()\n",
    "\n",
    "# => No columns contain null values"
   ]
  },
  {
   "cell_type": "code",
   "execution_count": 8,
   "id": "d7249bf5",
   "metadata": {},
   "outputs": [],
   "source": [
    "# Drop columns \"id\" and \"estimated_age\"\n",
    "df.drop('id', axis = 1, inplace = True)\n",
    "df.drop('estimated_age', axis = 1, inplace = True)"
   ]
  },
  {
   "cell_type": "code",
   "execution_count": 9,
   "id": "a3772c88",
   "metadata": {},
   "outputs": [
    {
     "data": {
      "text/html": [
       "<div>\n",
       "<style scoped>\n",
       "    .dataframe tbody tr th:only-of-type {\n",
       "        vertical-align: middle;\n",
       "    }\n",
       "\n",
       "    .dataframe tbody tr th {\n",
       "        vertical-align: top;\n",
       "    }\n",
       "\n",
       "    .dataframe thead th {\n",
       "        text-align: right;\n",
       "    }\n",
       "</style>\n",
       "<table border=\"1\" class=\"dataframe\">\n",
       "  <thead>\n",
       "    <tr style=\"text-align: right;\">\n",
       "      <th></th>\n",
       "      <th>send_date</th>\n",
       "      <th>age_range</th>\n",
       "      <th>channel</th>\n",
       "      <th>coupon</th>\n",
       "      <th>clicked</th>\n",
       "      <th>last_step</th>\n",
       "      <th>nb_units</th>\n",
       "      <th>order_value</th>\n",
       "    </tr>\n",
       "  </thead>\n",
       "  <tbody>\n",
       "    <tr>\n",
       "      <th>0</th>\n",
       "      <td>2019-04-12</td>\n",
       "      <td>46-60</td>\n",
       "      <td>SMS</td>\n",
       "      <td>2</td>\n",
       "      <td>0</td>\n",
       "      <td>received</td>\n",
       "      <td>0</td>\n",
       "      <td>0</td>\n",
       "    </tr>\n",
       "    <tr>\n",
       "      <th>1</th>\n",
       "      <td>2019-04-08</td>\n",
       "      <td>18-30</td>\n",
       "      <td>Email</td>\n",
       "      <td>2</td>\n",
       "      <td>0</td>\n",
       "      <td>received</td>\n",
       "      <td>0</td>\n",
       "      <td>0</td>\n",
       "    </tr>\n",
       "    <tr>\n",
       "      <th>2</th>\n",
       "      <td>2019-04-05</td>\n",
       "      <td>60+</td>\n",
       "      <td>Email</td>\n",
       "      <td>2</td>\n",
       "      <td>0</td>\n",
       "      <td>received</td>\n",
       "      <td>0</td>\n",
       "      <td>0</td>\n",
       "    </tr>\n",
       "    <tr>\n",
       "      <th>3</th>\n",
       "      <td>2019-04-21</td>\n",
       "      <td>31-45</td>\n",
       "      <td>SMS</td>\n",
       "      <td>2</td>\n",
       "      <td>0</td>\n",
       "      <td>received</td>\n",
       "      <td>0</td>\n",
       "      <td>0</td>\n",
       "    </tr>\n",
       "    <tr>\n",
       "      <th>4</th>\n",
       "      <td>2019-04-28</td>\n",
       "      <td>31-45</td>\n",
       "      <td>Email</td>\n",
       "      <td>2</td>\n",
       "      <td>0</td>\n",
       "      <td>received</td>\n",
       "      <td>0</td>\n",
       "      <td>0</td>\n",
       "    </tr>\n",
       "    <tr>\n",
       "      <th>...</th>\n",
       "      <td>...</td>\n",
       "      <td>...</td>\n",
       "      <td>...</td>\n",
       "      <td>...</td>\n",
       "      <td>...</td>\n",
       "      <td>...</td>\n",
       "      <td>...</td>\n",
       "      <td>...</td>\n",
       "    </tr>\n",
       "    <tr>\n",
       "      <th>299995</th>\n",
       "      <td>2019-04-26</td>\n",
       "      <td>18-30</td>\n",
       "      <td>Email</td>\n",
       "      <td>2</td>\n",
       "      <td>0</td>\n",
       "      <td>received</td>\n",
       "      <td>0</td>\n",
       "      <td>0</td>\n",
       "    </tr>\n",
       "    <tr>\n",
       "      <th>299996</th>\n",
       "      <td>2019-04-30</td>\n",
       "      <td>46-60</td>\n",
       "      <td>SMS</td>\n",
       "      <td>4</td>\n",
       "      <td>0</td>\n",
       "      <td>received</td>\n",
       "      <td>0</td>\n",
       "      <td>0</td>\n",
       "    </tr>\n",
       "    <tr>\n",
       "      <th>299997</th>\n",
       "      <td>2019-04-22</td>\n",
       "      <td>18-30</td>\n",
       "      <td>SMS</td>\n",
       "      <td>2</td>\n",
       "      <td>0</td>\n",
       "      <td>received</td>\n",
       "      <td>0</td>\n",
       "      <td>0</td>\n",
       "    </tr>\n",
       "    <tr>\n",
       "      <th>299998</th>\n",
       "      <td>2019-04-04</td>\n",
       "      <td>46-60</td>\n",
       "      <td>SMS</td>\n",
       "      <td>2</td>\n",
       "      <td>0</td>\n",
       "      <td>received</td>\n",
       "      <td>0</td>\n",
       "      <td>0</td>\n",
       "    </tr>\n",
       "    <tr>\n",
       "      <th>299999</th>\n",
       "      <td>2019-04-09</td>\n",
       "      <td>18-30</td>\n",
       "      <td>Email</td>\n",
       "      <td>2</td>\n",
       "      <td>0</td>\n",
       "      <td>received</td>\n",
       "      <td>0</td>\n",
       "      <td>0</td>\n",
       "    </tr>\n",
       "  </tbody>\n",
       "</table>\n",
       "<p>300000 rows × 8 columns</p>\n",
       "</div>"
      ],
      "text/plain": [
       "         send_date age_range channel  coupon  clicked last_step  nb_units  \\\n",
       "0       2019-04-12     46-60     SMS       2        0  received         0   \n",
       "1       2019-04-08     18-30   Email       2        0  received         0   \n",
       "2       2019-04-05       60+   Email       2        0  received         0   \n",
       "3       2019-04-21     31-45     SMS       2        0  received         0   \n",
       "4       2019-04-28     31-45   Email       2        0  received         0   \n",
       "...            ...       ...     ...     ...      ...       ...       ...   \n",
       "299995  2019-04-26     18-30   Email       2        0  received         0   \n",
       "299996  2019-04-30     46-60     SMS       4        0  received         0   \n",
       "299997  2019-04-22     18-30     SMS       2        0  received         0   \n",
       "299998  2019-04-04     46-60     SMS       2        0  received         0   \n",
       "299999  2019-04-09     18-30   Email       2        0  received         0   \n",
       "\n",
       "        order_value  \n",
       "0                 0  \n",
       "1                 0  \n",
       "2                 0  \n",
       "3                 0  \n",
       "4                 0  \n",
       "...             ...  \n",
       "299995            0  \n",
       "299996            0  \n",
       "299997            0  \n",
       "299998            0  \n",
       "299999            0  \n",
       "\n",
       "[300000 rows x 8 columns]"
      ]
     },
     "execution_count": 9,
     "metadata": {},
     "output_type": "execute_result"
    }
   ],
   "source": [
    "df"
   ]
  },
  {
   "cell_type": "code",
   "execution_count": 10,
   "id": "60cfbf86",
   "metadata": {},
   "outputs": [
    {
     "data": {
      "text/html": [
       "<div>\n",
       "<style scoped>\n",
       "    .dataframe tbody tr th:only-of-type {\n",
       "        vertical-align: middle;\n",
       "    }\n",
       "\n",
       "    .dataframe tbody tr th {\n",
       "        vertical-align: top;\n",
       "    }\n",
       "\n",
       "    .dataframe thead th {\n",
       "        text-align: right;\n",
       "    }\n",
       "</style>\n",
       "<table border=\"1\" class=\"dataframe\">\n",
       "  <thead>\n",
       "    <tr style=\"text-align: right;\">\n",
       "      <th></th>\n",
       "      <th>coupon</th>\n",
       "      <th>clicked</th>\n",
       "      <th>nb_units</th>\n",
       "      <th>order_value</th>\n",
       "    </tr>\n",
       "  </thead>\n",
       "  <tbody>\n",
       "    <tr>\n",
       "      <th>count</th>\n",
       "      <td>300000.00000</td>\n",
       "      <td>300000.000000</td>\n",
       "      <td>300000.000000</td>\n",
       "      <td>300000.000000</td>\n",
       "    </tr>\n",
       "    <tr>\n",
       "      <th>mean</th>\n",
       "      <td>3.09778</td>\n",
       "      <td>0.059220</td>\n",
       "      <td>0.010450</td>\n",
       "      <td>0.386213</td>\n",
       "    </tr>\n",
       "    <tr>\n",
       "      <th>std</th>\n",
       "      <td>1.47778</td>\n",
       "      <td>0.236036</td>\n",
       "      <td>0.263529</td>\n",
       "      <td>10.305920</td>\n",
       "    </tr>\n",
       "    <tr>\n",
       "      <th>min</th>\n",
       "      <td>2.00000</td>\n",
       "      <td>0.000000</td>\n",
       "      <td>0.000000</td>\n",
       "      <td>0.000000</td>\n",
       "    </tr>\n",
       "    <tr>\n",
       "      <th>25%</th>\n",
       "      <td>2.00000</td>\n",
       "      <td>0.000000</td>\n",
       "      <td>0.000000</td>\n",
       "      <td>0.000000</td>\n",
       "    </tr>\n",
       "    <tr>\n",
       "      <th>50%</th>\n",
       "      <td>2.00000</td>\n",
       "      <td>0.000000</td>\n",
       "      <td>0.000000</td>\n",
       "      <td>0.000000</td>\n",
       "    </tr>\n",
       "    <tr>\n",
       "      <th>75%</th>\n",
       "      <td>4.00000</td>\n",
       "      <td>0.000000</td>\n",
       "      <td>0.000000</td>\n",
       "      <td>0.000000</td>\n",
       "    </tr>\n",
       "    <tr>\n",
       "      <th>max</th>\n",
       "      <td>6.00000</td>\n",
       "      <td>1.000000</td>\n",
       "      <td>100.000000</td>\n",
       "      <td>3994.000000</td>\n",
       "    </tr>\n",
       "  </tbody>\n",
       "</table>\n",
       "</div>"
      ],
      "text/plain": [
       "             coupon        clicked       nb_units    order_value\n",
       "count  300000.00000  300000.000000  300000.000000  300000.000000\n",
       "mean        3.09778       0.059220       0.010450       0.386213\n",
       "std         1.47778       0.236036       0.263529      10.305920\n",
       "min         2.00000       0.000000       0.000000       0.000000\n",
       "25%         2.00000       0.000000       0.000000       0.000000\n",
       "50%         2.00000       0.000000       0.000000       0.000000\n",
       "75%         4.00000       0.000000       0.000000       0.000000\n",
       "max         6.00000       1.000000     100.000000    3994.000000"
      ]
     },
     "execution_count": 10,
     "metadata": {},
     "output_type": "execute_result"
    }
   ],
   "source": [
    "# Data description\n",
    "df.describe()"
   ]
  },
  {
   "cell_type": "code",
   "execution_count": null,
   "id": "753f751e",
   "metadata": {},
   "outputs": [],
   "source": []
  },
  {
   "cell_type": "code",
   "execution_count": 16,
   "id": "f65e2bf4",
   "metadata": {},
   "outputs": [],
   "source": [
    "# 2) Descriptive Statistics & Exploratory Analysis"
   ]
  },
  {
   "cell_type": "code",
   "execution_count": 11,
   "id": "2944ab40",
   "metadata": {},
   "outputs": [
    {
     "data": {
      "text/plain": [
       "[102107, 122900, 50893, 24100]"
      ]
     },
     "execution_count": 11,
     "metadata": {},
     "output_type": "execute_result"
    }
   ],
   "source": [
    "# Number of customers in each age group\n",
    "age_1 = len(df[df['age_range'] == '18-30'])\n",
    "age_2 = len(df[df['age_range'] == '31-45'])\n",
    "age_3 = len(df[df['age_range'] == '46-60'])\n",
    "age_4 = len(df[df['age_range'] == '60+'])\n",
    "[age_1, age_2, age_3, age_4]"
   ]
  },
  {
   "cell_type": "code",
   "execution_count": 12,
   "id": "cd0bfa92",
   "metadata": {},
   "outputs": [
    {
     "data": {
      "image/png": "[encoded data removed]",
      "text/plain": [
       "<Figure size 432x288 with 1 Axes>"
      ]
     },
     "metadata": {
      "needs_background": "light"
     },
     "output_type": "display_data"
    }
   ],
   "source": [
    "x = np.array(['age_1',' age_2', 'age_3', 'age_4'])\n",
    "y = np.array([102107, 122900, 50893, 24100])\n",
    "plt.bar(x,y)\n",
    "plt.show()\n",
    "\n",
    "# => The highest number of customers receiving SMS/Email are in the age range 31-45"
   ]
  },
  {
   "cell_type": "code",
   "execution_count": 13,
   "id": "7970227e",
   "metadata": {},
   "outputs": [
    {
     "data": {
      "text/plain": [
       "[163511, 136489]"
      ]
     },
     "execution_count": 13,
     "metadata": {},
     "output_type": "execute_result"
    }
   ],
   "source": [
    "# Number of SMS/Emails sent\n",
    "sms = len(df[df['channel'] == 'SMS'])\n",
    "email = len(df[df['channel'] == 'Email'])\n",
    "[sms, email]"
   ]
  },
  {
   "cell_type": "code",
   "execution_count": 14,
   "id": "491c99b4",
   "metadata": {},
   "outputs": [
    {
     "data": {
      "image/png": "[encoded data removed]",
      "text/plain": [
       "<Figure size 432x288 with 1 Axes>"
      ]
     },
     "metadata": {},
     "output_type": "display_data"
    }
   ],
   "source": [
    "x = np.array(['sms', 'email'])\n",
    "y = np.array([163511, 136489])\n",
    "plt.pie(y, labels = x)\n",
    "plt.legend()\n",
    "plt.show()"
   ]
  },
  {
   "cell_type": "code",
   "execution_count": 15,
   "id": "4b98d5b6",
   "metadata": {},
   "outputs": [
    {
     "data": {
      "text/plain": [
       "[180085, 75163, 44752]"
      ]
     },
     "execution_count": 15,
     "metadata": {},
     "output_type": "execute_result"
    }
   ],
   "source": [
    "# Number of coupons issued for each value of the coupon\n",
    "cp2 = len(df[df['coupon'] == 2])\n",
    "cp4 = len(df[df['coupon'] == 4])\n",
    "cp6 = len(df[df['coupon'] == 6])\n",
    "[cp2, cp4, cp6]"
   ]
  },
  {
   "cell_type": "code",
   "execution_count": 16,
   "id": "effe0f0d",
   "metadata": {},
   "outputs": [
    {
     "data": {
      "image/png": "[encoded data removed]",
      "text/plain": [
       "<Figure size 432x288 with 1 Axes>"
      ]
     },
     "metadata": {
      "needs_background": "light"
     },
     "output_type": "display_data"
    }
   ],
   "source": [
    "x = np.array(['cp2','cp4','cp6'])\n",
    "y = np.array([180085,75163,44752])\n",
    "plt.bar(x,y)\n",
    "plt.show()"
   ]
  },
  {
   "cell_type": "code",
   "execution_count": null,
   "id": "e34617ca",
   "metadata": {},
   "outputs": [],
   "source": []
  },
  {
   "cell_type": "code",
   "execution_count": null,
   "id": "8ff71ccc",
   "metadata": {},
   "outputs": [],
   "source": [
    "# 3) Statistical analysis to answer the questions"
   ]
  },
  {
   "cell_type": "code",
   "execution_count": null,
   "id": "fbbdca87",
   "metadata": {},
   "outputs": [],
   "source": [
    "# a) Question: For the next quarter, your marketing department has a budget of $60,000 to spend on online campaigns. \n",
    "# How would you allocate it between SMS and Email?\n",
    "\n",
    "# => We need to allocate budget for online marketing campaign between SMS and Email\n",
    "# => Analyze the effectiveness between SMS and Email channels"
   ]
  },
  {
   "cell_type": "code",
   "execution_count": null,
   "id": "6aa46820",
   "metadata": {},
   "outputs": [],
   "source": [
    "# First, we consider the effect of coupon value on customers behavior"
   ]
  },
  {
   "cell_type": "code",
   "execution_count": 17,
   "id": "22e2bc35",
   "metadata": {},
   "outputs": [
    {
     "data": {
      "text/html": [
       "<div>\n",
       "<style scoped>\n",
       "    .dataframe tbody tr th:only-of-type {\n",
       "        vertical-align: middle;\n",
       "    }\n",
       "\n",
       "    .dataframe tbody tr th {\n",
       "        vertical-align: top;\n",
       "    }\n",
       "\n",
       "    .dataframe thead th {\n",
       "        text-align: right;\n",
       "    }\n",
       "</style>\n",
       "<table border=\"1\" class=\"dataframe\">\n",
       "  <thead>\n",
       "    <tr style=\"text-align: right;\">\n",
       "      <th></th>\n",
       "      <th>clicked</th>\n",
       "    </tr>\n",
       "    <tr>\n",
       "      <th>coupon</th>\n",
       "      <th></th>\n",
       "    </tr>\n",
       "  </thead>\n",
       "  <tbody>\n",
       "    <tr>\n",
       "      <th>2</th>\n",
       "      <td>0.055218</td>\n",
       "    </tr>\n",
       "    <tr>\n",
       "      <th>4</th>\n",
       "      <td>0.061892</td>\n",
       "    </tr>\n",
       "    <tr>\n",
       "      <th>6</th>\n",
       "      <td>0.070835</td>\n",
       "    </tr>\n",
       "  </tbody>\n",
       "</table>\n",
       "</div>"
      ],
      "text/plain": [
       "         clicked\n",
       "coupon          \n",
       "2       0.055218\n",
       "4       0.061892\n",
       "6       0.070835"
      ]
     },
     "execution_count": 17,
     "metadata": {},
     "output_type": "execute_result"
    }
   ],
   "source": [
    "# What value of the coupon makes customers click on the link in SMS/Email?\n",
    "pv_coupon = pd.pivot_table(df, index = 'coupon', values = 'clicked', aggfunc = np.mean)\n",
    "pv_coupon"
   ]
  },
  {
   "cell_type": "code",
   "execution_count": null,
   "id": "515c4a0d",
   "metadata": {},
   "outputs": [],
   "source": [
    "# => The value of the coupon has an effect on link clicks, but the effect is relatively small "
   ]
  },
  {
   "cell_type": "code",
   "execution_count": 18,
   "id": "756c65a2",
   "metadata": {},
   "outputs": [
    {
     "data": {
      "text/html": [
       "<div>\n",
       "<style scoped>\n",
       "    .dataframe tbody tr th:only-of-type {\n",
       "        vertical-align: middle;\n",
       "    }\n",
       "\n",
       "    .dataframe tbody tr th {\n",
       "        vertical-align: top;\n",
       "    }\n",
       "\n",
       "    .dataframe thead th {\n",
       "        text-align: right;\n",
       "    }\n",
       "</style>\n",
       "<table border=\"1\" class=\"dataframe\">\n",
       "  <thead>\n",
       "    <tr style=\"text-align: right;\">\n",
       "      <th></th>\n",
       "      <th></th>\n",
       "      <th>clicked</th>\n",
       "    </tr>\n",
       "    <tr>\n",
       "      <th>age_range</th>\n",
       "      <th>coupon</th>\n",
       "      <th></th>\n",
       "    </tr>\n",
       "  </thead>\n",
       "  <tbody>\n",
       "    <tr>\n",
       "      <th rowspan=\"3\" valign=\"top\">18-30</th>\n",
       "      <th>2</th>\n",
       "      <td>0.054339</td>\n",
       "    </tr>\n",
       "    <tr>\n",
       "      <th>4</th>\n",
       "      <td>0.064071</td>\n",
       "    </tr>\n",
       "    <tr>\n",
       "      <th>6</th>\n",
       "      <td>0.081222</td>\n",
       "    </tr>\n",
       "    <tr>\n",
       "      <th rowspan=\"3\" valign=\"top\">31-45</th>\n",
       "      <th>2</th>\n",
       "      <td>0.065861</td>\n",
       "    </tr>\n",
       "    <tr>\n",
       "      <th>4</th>\n",
       "      <td>0.060913</td>\n",
       "    </tr>\n",
       "    <tr>\n",
       "      <th>6</th>\n",
       "      <td>0.056952</td>\n",
       "    </tr>\n",
       "    <tr>\n",
       "      <th rowspan=\"3\" valign=\"top\">46-60</th>\n",
       "      <th>2</th>\n",
       "      <td>0.047248</td>\n",
       "    </tr>\n",
       "    <tr>\n",
       "      <th>4</th>\n",
       "      <td>0.077140</td>\n",
       "    </tr>\n",
       "    <tr>\n",
       "      <th>6</th>\n",
       "      <td>0.110264</td>\n",
       "    </tr>\n",
       "    <tr>\n",
       "      <th rowspan=\"3\" valign=\"top\">60+</th>\n",
       "      <th>2</th>\n",
       "      <td>0.021525</td>\n",
       "    </tr>\n",
       "    <tr>\n",
       "      <th>4</th>\n",
       "      <td>0.025797</td>\n",
       "    </tr>\n",
       "    <tr>\n",
       "      <th>6</th>\n",
       "      <td>0.014021</td>\n",
       "    </tr>\n",
       "  </tbody>\n",
       "</table>\n",
       "</div>"
      ],
      "text/plain": [
       "                   clicked\n",
       "age_range coupon          \n",
       "18-30     2       0.054339\n",
       "          4       0.064071\n",
       "          6       0.081222\n",
       "31-45     2       0.065861\n",
       "          4       0.060913\n",
       "          6       0.056952\n",
       "46-60     2       0.047248\n",
       "          4       0.077140\n",
       "          6       0.110264\n",
       "60+       2       0.021525\n",
       "          4       0.025797\n",
       "          6       0.014021"
      ]
     },
     "execution_count": 18,
     "metadata": {},
     "output_type": "execute_result"
    }
   ],
   "source": [
    "# Possibility to click on the link of each age and value of the coupon\n",
    "pv_cp_age = pd.pivot_table(df, index = ['age_range', 'coupon'], values = 'clicked', aggfunc = np.mean)\n",
    "pv_cp_age"
   ]
  },
  {
   "cell_type": "code",
   "execution_count": 23,
   "id": "1c3fb956",
   "metadata": {},
   "outputs": [],
   "source": [
    "# => We see that, for the age group of 18-30 and 46-60, the value of the coupon has an effect on the likelihood \n",
    "# of clicking the link, especially for group 46-60, these people are middle-aged and interested in product promotions"
   ]
  },
  {
   "cell_type": "code",
   "execution_count": 19,
   "id": "07576508",
   "metadata": {},
   "outputs": [
    {
     "data": {
      "text/html": [
       "<div>\n",
       "<style scoped>\n",
       "    .dataframe tbody tr th:only-of-type {\n",
       "        vertical-align: middle;\n",
       "    }\n",
       "\n",
       "    .dataframe tbody tr th {\n",
       "        vertical-align: top;\n",
       "    }\n",
       "\n",
       "    .dataframe thead th {\n",
       "        text-align: right;\n",
       "    }\n",
       "</style>\n",
       "<table border=\"1\" class=\"dataframe\">\n",
       "  <thead>\n",
       "    <tr style=\"text-align: right;\">\n",
       "      <th></th>\n",
       "      <th></th>\n",
       "      <th>nb_units</th>\n",
       "      <th>order_value</th>\n",
       "    </tr>\n",
       "    <tr>\n",
       "      <th>age_range</th>\n",
       "      <th>coupon</th>\n",
       "      <th></th>\n",
       "      <th></th>\n",
       "    </tr>\n",
       "  </thead>\n",
       "  <tbody>\n",
       "    <tr>\n",
       "      <th rowspan=\"3\" valign=\"top\">18-30</th>\n",
       "      <th>2</th>\n",
       "      <td>686</td>\n",
       "      <td>26262</td>\n",
       "    </tr>\n",
       "    <tr>\n",
       "      <th>4</th>\n",
       "      <td>331</td>\n",
       "      <td>11916</td>\n",
       "    </tr>\n",
       "    <tr>\n",
       "      <th>6</th>\n",
       "      <td>175</td>\n",
       "      <td>5950</td>\n",
       "    </tr>\n",
       "    <tr>\n",
       "      <th rowspan=\"3\" valign=\"top\">31-45</th>\n",
       "      <th>2</th>\n",
       "      <td>784</td>\n",
       "      <td>29906</td>\n",
       "    </tr>\n",
       "    <tr>\n",
       "      <th>4</th>\n",
       "      <td>276</td>\n",
       "      <td>9936</td>\n",
       "    </tr>\n",
       "    <tr>\n",
       "      <th>6</th>\n",
       "      <td>174</td>\n",
       "      <td>5916</td>\n",
       "    </tr>\n",
       "    <tr>\n",
       "      <th rowspan=\"3\" valign=\"top\">46-60</th>\n",
       "      <th>2</th>\n",
       "      <td>306</td>\n",
       "      <td>11682</td>\n",
       "    </tr>\n",
       "    <tr>\n",
       "      <th>4</th>\n",
       "      <td>225</td>\n",
       "      <td>8208</td>\n",
       "    </tr>\n",
       "    <tr>\n",
       "      <th>6</th>\n",
       "      <td>164</td>\n",
       "      <td>5576</td>\n",
       "    </tr>\n",
       "    <tr>\n",
       "      <th rowspan=\"3\" valign=\"top\">60+</th>\n",
       "      <th>2</th>\n",
       "      <td>5</td>\n",
       "      <td>190</td>\n",
       "    </tr>\n",
       "    <tr>\n",
       "      <th>4</th>\n",
       "      <td>8</td>\n",
       "      <td>288</td>\n",
       "    </tr>\n",
       "    <tr>\n",
       "      <th>6</th>\n",
       "      <td>1</td>\n",
       "      <td>34</td>\n",
       "    </tr>\n",
       "  </tbody>\n",
       "</table>\n",
       "</div>"
      ],
      "text/plain": [
       "                  nb_units  order_value\n",
       "age_range coupon                       \n",
       "18-30     2            686        26262\n",
       "          4            331        11916\n",
       "          6            175         5950\n",
       "31-45     2            784        29906\n",
       "          4            276         9936\n",
       "          6            174         5916\n",
       "46-60     2            306        11682\n",
       "          4            225         8208\n",
       "          6            164         5576\n",
       "60+       2              5          190\n",
       "          4              8          288\n",
       "          6              1           34"
      ]
     },
     "execution_count": 19,
     "metadata": {},
     "output_type": "execute_result"
    }
   ],
   "source": [
    "# Consider the effect of coupon value on customers buying behavior\n",
    "pv_age_purchase_cp = pd.pivot_table(df, index = ['age_range', 'coupon'], values = ['nb_units', 'order_value'], aggfunc = np.sum)\n",
    "pv_age_purchase_cp"
   ]
  },
  {
   "cell_type": "code",
   "execution_count": 20,
   "id": "00243251",
   "metadata": {},
   "outputs": [
    {
     "data": {
      "text/html": [
       "<div>\n",
       "<style scoped>\n",
       "    .dataframe tbody tr th:only-of-type {\n",
       "        vertical-align: middle;\n",
       "    }\n",
       "\n",
       "    .dataframe tbody tr th {\n",
       "        vertical-align: top;\n",
       "    }\n",
       "\n",
       "    .dataframe thead th {\n",
       "        text-align: right;\n",
       "    }\n",
       "</style>\n",
       "<table border=\"1\" class=\"dataframe\">\n",
       "  <thead>\n",
       "    <tr style=\"text-align: right;\">\n",
       "      <th></th>\n",
       "      <th>nb_units</th>\n",
       "      <th>order_value</th>\n",
       "    </tr>\n",
       "    <tr>\n",
       "      <th>coupon</th>\n",
       "      <th></th>\n",
       "      <th></th>\n",
       "    </tr>\n",
       "  </thead>\n",
       "  <tbody>\n",
       "    <tr>\n",
       "      <th>2</th>\n",
       "      <td>1781</td>\n",
       "      <td>68040</td>\n",
       "    </tr>\n",
       "    <tr>\n",
       "      <th>4</th>\n",
       "      <td>840</td>\n",
       "      <td>30348</td>\n",
       "    </tr>\n",
       "    <tr>\n",
       "      <th>6</th>\n",
       "      <td>514</td>\n",
       "      <td>17476</td>\n",
       "    </tr>\n",
       "  </tbody>\n",
       "</table>\n",
       "</div>"
      ],
      "text/plain": [
       "        nb_units  order_value\n",
       "coupon                       \n",
       "2           1781        68040\n",
       "4            840        30348\n",
       "6            514        17476"
      ]
     },
     "execution_count": 20,
     "metadata": {},
     "output_type": "execute_result"
    }
   ],
   "source": [
    "pv_cp_purchase = pd.pivot_table(df, index = 'coupon', values = ['nb_units', 'order_value'], aggfunc = np.sum)\n",
    "pv_cp_purchase"
   ]
  },
  {
   "cell_type": "code",
   "execution_count": null,
   "id": "1a3bbe40",
   "metadata": {},
   "outputs": [],
   "source": [
    "# => The value of the coupon does not affect the number of products purchased and the order value of age groups"
   ]
  },
  {
   "cell_type": "code",
   "execution_count": null,
   "id": "cb3700dd",
   "metadata": {},
   "outputs": [],
   "source": [
    "# => We realize that the value of the coupon does affect the customers' awareness of our product but not the customers buying behavior."
   ]
  },
  {
   "cell_type": "code",
   "execution_count": null,
   "id": "fae6d801",
   "metadata": {},
   "outputs": [],
   "source": [
    "# Next, we will consider the budget allocation between two advertising channels: SMS and Email"
   ]
  },
  {
   "cell_type": "code",
   "execution_count": 21,
   "id": "d9d65e25",
   "metadata": {},
   "outputs": [
    {
     "data": {
      "text/html": [
       "<div>\n",
       "<style scoped>\n",
       "    .dataframe tbody tr th:only-of-type {\n",
       "        vertical-align: middle;\n",
       "    }\n",
       "\n",
       "    .dataframe tbody tr th {\n",
       "        vertical-align: top;\n",
       "    }\n",
       "\n",
       "    .dataframe thead th {\n",
       "        text-align: right;\n",
       "    }\n",
       "</style>\n",
       "<table border=\"1\" class=\"dataframe\">\n",
       "  <thead>\n",
       "    <tr style=\"text-align: right;\">\n",
       "      <th></th>\n",
       "      <th>clicked</th>\n",
       "    </tr>\n",
       "    <tr>\n",
       "      <th>age_range</th>\n",
       "      <th></th>\n",
       "    </tr>\n",
       "  </thead>\n",
       "  <tbody>\n",
       "    <tr>\n",
       "      <th>18-30</th>\n",
       "      <td>0.060770</td>\n",
       "    </tr>\n",
       "    <tr>\n",
       "      <th>31-45</th>\n",
       "      <td>0.063287</td>\n",
       "    </tr>\n",
       "    <tr>\n",
       "      <th>46-60</th>\n",
       "      <td>0.064154</td>\n",
       "    </tr>\n",
       "    <tr>\n",
       "      <th>60+</th>\n",
       "      <td>0.021494</td>\n",
       "    </tr>\n",
       "  </tbody>\n",
       "</table>\n",
       "</div>"
      ],
      "text/plain": [
       "            clicked\n",
       "age_range          \n",
       "18-30      0.060770\n",
       "31-45      0.063287\n",
       "46-60      0.064154\n",
       "60+        0.021494"
      ]
     },
     "execution_count": 21,
     "metadata": {},
     "output_type": "execute_result"
    }
   ],
   "source": [
    "# The possibility to click on the link of each age\n",
    "pv_age = pd.pivot_table(df, index = 'age_range', values = 'clicked', aggfunc = np.mean)\n",
    "pv_age"
   ]
  },
  {
   "cell_type": "code",
   "execution_count": null,
   "id": "3d02aefc",
   "metadata": {},
   "outputs": [],
   "source": [
    "# => People who are least likely to click on a link are 60+ years old,\n",
    "# this age group is the elderly group, often not interested in discount programs"
   ]
  },
  {
   "cell_type": "code",
   "execution_count": 22,
   "id": "29f8868a",
   "metadata": {},
   "outputs": [
    {
     "data": {
      "text/html": [
       "<div>\n",
       "<style scoped>\n",
       "    .dataframe tbody tr th:only-of-type {\n",
       "        vertical-align: middle;\n",
       "    }\n",
       "\n",
       "    .dataframe tbody tr th {\n",
       "        vertical-align: top;\n",
       "    }\n",
       "\n",
       "    .dataframe thead th {\n",
       "        text-align: right;\n",
       "    }\n",
       "</style>\n",
       "<table border=\"1\" class=\"dataframe\">\n",
       "  <thead>\n",
       "    <tr style=\"text-align: right;\">\n",
       "      <th></th>\n",
       "      <th></th>\n",
       "      <th>clicked</th>\n",
       "    </tr>\n",
       "    <tr>\n",
       "      <th>age_range</th>\n",
       "      <th>channel</th>\n",
       "      <th></th>\n",
       "    </tr>\n",
       "  </thead>\n",
       "  <tbody>\n",
       "    <tr>\n",
       "      <th rowspan=\"2\" valign=\"top\">18-30</th>\n",
       "      <th>Email</th>\n",
       "      <td>0.048157</td>\n",
       "    </tr>\n",
       "    <tr>\n",
       "      <th>SMS</th>\n",
       "      <td>0.071383</td>\n",
       "    </tr>\n",
       "    <tr>\n",
       "      <th rowspan=\"2\" valign=\"top\">31-45</th>\n",
       "      <th>Email</th>\n",
       "      <td>0.076432</td>\n",
       "    </tr>\n",
       "    <tr>\n",
       "      <th>SMS</th>\n",
       "      <td>0.052328</td>\n",
       "    </tr>\n",
       "    <tr>\n",
       "      <th rowspan=\"2\" valign=\"top\">46-60</th>\n",
       "      <th>Email</th>\n",
       "      <td>0.043259</td>\n",
       "    </tr>\n",
       "    <tr>\n",
       "      <th>SMS</th>\n",
       "      <td>0.081385</td>\n",
       "    </tr>\n",
       "    <tr>\n",
       "      <th rowspan=\"2\" valign=\"top\">60+</th>\n",
       "      <th>Email</th>\n",
       "      <td>0.017446</td>\n",
       "    </tr>\n",
       "    <tr>\n",
       "      <th>SMS</th>\n",
       "      <td>0.024863</td>\n",
       "    </tr>\n",
       "  </tbody>\n",
       "</table>\n",
       "</div>"
      ],
      "text/plain": [
       "                    clicked\n",
       "age_range channel          \n",
       "18-30     Email    0.048157\n",
       "          SMS      0.071383\n",
       "31-45     Email    0.076432\n",
       "          SMS      0.052328\n",
       "46-60     Email    0.043259\n",
       "          SMS      0.081385\n",
       "60+       Email    0.017446\n",
       "          SMS      0.024863"
      ]
     },
     "execution_count": 22,
     "metadata": {},
     "output_type": "execute_result"
    }
   ],
   "source": [
    "# The possibility to click on the link of each age by channels\n",
    "pv_channel_age = pd.pivot_table(df, index = ['age_range', 'channel'], values = 'clicked', aggfunc = np.mean)\n",
    "pv_channel_age"
   ]
  },
  {
   "cell_type": "code",
   "execution_count": null,
   "id": "f43fd07a",
   "metadata": {},
   "outputs": [],
   "source": [
    "# => Age group 18-30, 46-60 and 60+ often click on links in SMS more than in Email, \n",
    "# especially the two age groups 18-30 and 46-60\n",
    "# The age group 31-45 often clicks on links in Email more"
   ]
  },
  {
   "cell_type": "code",
   "execution_count": null,
   "id": "de51dccb",
   "metadata": {},
   "outputs": [],
   "source": [
    " "
   ]
  },
  {
   "cell_type": "code",
   "execution_count": 23,
   "id": "6c09da81",
   "metadata": {},
   "outputs": [
    {
     "data": {
      "text/html": [
       "<div>\n",
       "<style scoped>\n",
       "    .dataframe tbody tr th:only-of-type {\n",
       "        vertical-align: middle;\n",
       "    }\n",
       "\n",
       "    .dataframe tbody tr th {\n",
       "        vertical-align: top;\n",
       "    }\n",
       "\n",
       "    .dataframe thead th {\n",
       "        text-align: right;\n",
       "    }\n",
       "</style>\n",
       "<table border=\"1\" class=\"dataframe\">\n",
       "  <thead>\n",
       "    <tr style=\"text-align: right;\">\n",
       "      <th></th>\n",
       "      <th>nb_units</th>\n",
       "      <th>order_value</th>\n",
       "    </tr>\n",
       "    <tr>\n",
       "      <th>age_range</th>\n",
       "      <th></th>\n",
       "      <th></th>\n",
       "    </tr>\n",
       "  </thead>\n",
       "  <tbody>\n",
       "    <tr>\n",
       "      <th>18-30</th>\n",
       "      <td>1192</td>\n",
       "      <td>44128</td>\n",
       "    </tr>\n",
       "    <tr>\n",
       "      <th>31-45</th>\n",
       "      <td>1234</td>\n",
       "      <td>45758</td>\n",
       "    </tr>\n",
       "    <tr>\n",
       "      <th>46-60</th>\n",
       "      <td>695</td>\n",
       "      <td>25466</td>\n",
       "    </tr>\n",
       "    <tr>\n",
       "      <th>60+</th>\n",
       "      <td>14</td>\n",
       "      <td>512</td>\n",
       "    </tr>\n",
       "  </tbody>\n",
       "</table>\n",
       "</div>"
      ],
      "text/plain": [
       "           nb_units  order_value\n",
       "age_range                       \n",
       "18-30          1192        44128\n",
       "31-45          1234        45758\n",
       "46-60           695        25466\n",
       "60+              14          512"
      ]
     },
     "execution_count": 23,
     "metadata": {},
     "output_type": "execute_result"
    }
   ],
   "source": [
    "# Total order quantity and order value by each age\n",
    "pv_age_purchase = pd.pivot_table(df, index = 'age_range', values = ['nb_units', 'order_value'], aggfunc = np.sum)\n",
    "pv_age_purchase"
   ]
  },
  {
   "cell_type": "code",
   "execution_count": null,
   "id": "b98c6291",
   "metadata": {},
   "outputs": [],
   "source": [
    "# => The 18-30 and 31-45 age groups have a much higher demand for products than the other two age groups\n",
    "# The age group 60+ has little demand to buy new generation razor products"
   ]
  },
  {
   "cell_type": "code",
   "execution_count": 24,
   "id": "8d028dd5",
   "metadata": {},
   "outputs": [
    {
     "data": {
      "image/png": "[encoded data removed]",
      "text/plain": [
       "<Figure size 432x288 with 1 Axes>"
      ]
     },
     "metadata": {},
     "output_type": "display_data"
    }
   ],
   "source": [
    "x = np.array(['18-30', '31-45', '46-60', '60+'])\n",
    "y = np.array([1192, 1234, 695, 14])\n",
    "plt.pie(y, labels = x)\n",
    "plt.legend()\n",
    "plt.show()"
   ]
  },
  {
   "cell_type": "code",
   "execution_count": null,
   "id": "2da837cc",
   "metadata": {},
   "outputs": [],
   "source": []
  },
  {
   "cell_type": "code",
   "execution_count": 25,
   "id": "50153759",
   "metadata": {},
   "outputs": [
    {
     "data": {
      "text/html": [
       "<div>\n",
       "<style scoped>\n",
       "    .dataframe tbody tr th:only-of-type {\n",
       "        vertical-align: middle;\n",
       "    }\n",
       "\n",
       "    .dataframe tbody tr th {\n",
       "        vertical-align: top;\n",
       "    }\n",
       "\n",
       "    .dataframe thead th {\n",
       "        text-align: right;\n",
       "    }\n",
       "</style>\n",
       "<table border=\"1\" class=\"dataframe\">\n",
       "  <thead>\n",
       "    <tr style=\"text-align: right;\">\n",
       "      <th></th>\n",
       "      <th>nb_units</th>\n",
       "      <th>order_value</th>\n",
       "    </tr>\n",
       "    <tr>\n",
       "      <th>channel</th>\n",
       "      <th></th>\n",
       "      <th></th>\n",
       "    </tr>\n",
       "  </thead>\n",
       "  <tbody>\n",
       "    <tr>\n",
       "      <th>Email</th>\n",
       "      <td>1473</td>\n",
       "      <td>54324</td>\n",
       "    </tr>\n",
       "    <tr>\n",
       "      <th>SMS</th>\n",
       "      <td>1662</td>\n",
       "      <td>61540</td>\n",
       "    </tr>\n",
       "  </tbody>\n",
       "</table>\n",
       "</div>"
      ],
      "text/plain": [
       "         nb_units  order_value\n",
       "channel                       \n",
       "Email        1473        54324\n",
       "SMS          1662        61540"
      ]
     },
     "execution_count": 25,
     "metadata": {},
     "output_type": "execute_result"
    }
   ],
   "source": [
    "# Number of products purchased and Total order value by each SMS/Email channel\n",
    "pv_units_order = pd.pivot_table(df, index = 'channel', values = ['nb_units', 'order_value'], aggfunc = np.sum)\n",
    "pv_units_order"
   ]
  },
  {
   "cell_type": "code",
   "execution_count": 26,
   "id": "2f89e70d",
   "metadata": {},
   "outputs": [
    {
     "data": {
      "text/html": [
       "<div>\n",
       "<style scoped>\n",
       "    .dataframe tbody tr th:only-of-type {\n",
       "        vertical-align: middle;\n",
       "    }\n",
       "\n",
       "    .dataframe tbody tr th {\n",
       "        vertical-align: top;\n",
       "    }\n",
       "\n",
       "    .dataframe thead th {\n",
       "        text-align: right;\n",
       "    }\n",
       "</style>\n",
       "<table border=\"1\" class=\"dataframe\">\n",
       "  <thead>\n",
       "    <tr style=\"text-align: right;\">\n",
       "      <th></th>\n",
       "      <th></th>\n",
       "      <th>nb_units</th>\n",
       "      <th>order_value</th>\n",
       "    </tr>\n",
       "    <tr>\n",
       "      <th>age_range</th>\n",
       "      <th>channel</th>\n",
       "      <th></th>\n",
       "      <th></th>\n",
       "    </tr>\n",
       "  </thead>\n",
       "  <tbody>\n",
       "    <tr>\n",
       "      <th rowspan=\"2\" valign=\"top\">18-30</th>\n",
       "      <th>Email</th>\n",
       "      <td>422</td>\n",
       "      <td>15504</td>\n",
       "    </tr>\n",
       "    <tr>\n",
       "      <th>SMS</th>\n",
       "      <td>770</td>\n",
       "      <td>28624</td>\n",
       "    </tr>\n",
       "    <tr>\n",
       "      <th rowspan=\"2\" valign=\"top\">31-45</th>\n",
       "      <th>Email</th>\n",
       "      <td>877</td>\n",
       "      <td>32474</td>\n",
       "    </tr>\n",
       "    <tr>\n",
       "      <th>SMS</th>\n",
       "      <td>357</td>\n",
       "      <td>13284</td>\n",
       "    </tr>\n",
       "    <tr>\n",
       "      <th rowspan=\"2\" valign=\"top\">46-60</th>\n",
       "      <th>Email</th>\n",
       "      <td>170</td>\n",
       "      <td>6204</td>\n",
       "    </tr>\n",
       "    <tr>\n",
       "      <th>SMS</th>\n",
       "      <td>525</td>\n",
       "      <td>19262</td>\n",
       "    </tr>\n",
       "    <tr>\n",
       "      <th rowspan=\"2\" valign=\"top\">60+</th>\n",
       "      <th>Email</th>\n",
       "      <td>4</td>\n",
       "      <td>142</td>\n",
       "    </tr>\n",
       "    <tr>\n",
       "      <th>SMS</th>\n",
       "      <td>10</td>\n",
       "      <td>370</td>\n",
       "    </tr>\n",
       "  </tbody>\n",
       "</table>\n",
       "</div>"
      ],
      "text/plain": [
       "                   nb_units  order_value\n",
       "age_range channel                       \n",
       "18-30     Email         422        15504\n",
       "          SMS           770        28624\n",
       "31-45     Email         877        32474\n",
       "          SMS           357        13284\n",
       "46-60     Email         170         6204\n",
       "          SMS           525        19262\n",
       "60+       Email           4          142\n",
       "          SMS            10          370"
      ]
     },
     "execution_count": 26,
     "metadata": {},
     "output_type": "execute_result"
    }
   ],
   "source": [
    "# Number of products purchased and Total order value by each age group and SMS/Email channel\n",
    "channel_age_nb_order = pd.pivot_table(df, index = ['age_range', 'channel'], values = ['nb_units', 'order_value'], aggfunc = np.sum)\n",
    "channel_age_nb_order"
   ]
  },
  {
   "cell_type": "code",
   "execution_count": 24,
   "id": "3d060aab",
   "metadata": {},
   "outputs": [],
   "source": []
  },
  {
   "cell_type": "code",
   "execution_count": 27,
   "id": "29cf907f",
   "metadata": {},
   "outputs": [
    {
     "data": {
      "text/html": [
       "<div>\n",
       "<style scoped>\n",
       "    .dataframe tbody tr th:only-of-type {\n",
       "        vertical-align: middle;\n",
       "    }\n",
       "\n",
       "    .dataframe tbody tr th {\n",
       "        vertical-align: top;\n",
       "    }\n",
       "\n",
       "    .dataframe thead th {\n",
       "        text-align: right;\n",
       "    }\n",
       "</style>\n",
       "<table border=\"1\" class=\"dataframe\">\n",
       "  <thead>\n",
       "    <tr style=\"text-align: right;\">\n",
       "      <th></th>\n",
       "      <th>send_date</th>\n",
       "      <th>age_range</th>\n",
       "      <th>channel</th>\n",
       "      <th>coupon</th>\n",
       "      <th>clicked</th>\n",
       "      <th>last_step</th>\n",
       "      <th>nb_units</th>\n",
       "      <th>order_value</th>\n",
       "    </tr>\n",
       "  </thead>\n",
       "  <tbody>\n",
       "    <tr>\n",
       "      <th>70</th>\n",
       "      <td>2019-04-25</td>\n",
       "      <td>18-30</td>\n",
       "      <td>Email</td>\n",
       "      <td>2</td>\n",
       "      <td>1</td>\n",
       "      <td>purchased</td>\n",
       "      <td>1</td>\n",
       "      <td>38</td>\n",
       "    </tr>\n",
       "    <tr>\n",
       "      <th>116</th>\n",
       "      <td>2019-05-01</td>\n",
       "      <td>31-45</td>\n",
       "      <td>Email</td>\n",
       "      <td>2</td>\n",
       "      <td>1</td>\n",
       "      <td>purchased</td>\n",
       "      <td>3</td>\n",
       "      <td>114</td>\n",
       "    </tr>\n",
       "    <tr>\n",
       "      <th>531</th>\n",
       "      <td>2019-04-14</td>\n",
       "      <td>18-30</td>\n",
       "      <td>Email</td>\n",
       "      <td>4</td>\n",
       "      <td>1</td>\n",
       "      <td>purchased</td>\n",
       "      <td>2</td>\n",
       "      <td>72</td>\n",
       "    </tr>\n",
       "    <tr>\n",
       "      <th>658</th>\n",
       "      <td>2019-04-03</td>\n",
       "      <td>46-60</td>\n",
       "      <td>SMS</td>\n",
       "      <td>2</td>\n",
       "      <td>1</td>\n",
       "      <td>purchased</td>\n",
       "      <td>30</td>\n",
       "      <td>1194</td>\n",
       "    </tr>\n",
       "    <tr>\n",
       "      <th>664</th>\n",
       "      <td>2019-04-01</td>\n",
       "      <td>31-45</td>\n",
       "      <td>Email</td>\n",
       "      <td>4</td>\n",
       "      <td>1</td>\n",
       "      <td>purchased</td>\n",
       "      <td>1</td>\n",
       "      <td>36</td>\n",
       "    </tr>\n",
       "    <tr>\n",
       "      <th>...</th>\n",
       "      <td>...</td>\n",
       "      <td>...</td>\n",
       "      <td>...</td>\n",
       "      <td>...</td>\n",
       "      <td>...</td>\n",
       "      <td>...</td>\n",
       "      <td>...</td>\n",
       "      <td>...</td>\n",
       "    </tr>\n",
       "    <tr>\n",
       "      <th>299608</th>\n",
       "      <td>2019-04-24</td>\n",
       "      <td>31-45</td>\n",
       "      <td>Email</td>\n",
       "      <td>4</td>\n",
       "      <td>1</td>\n",
       "      <td>purchased</td>\n",
       "      <td>2</td>\n",
       "      <td>72</td>\n",
       "    </tr>\n",
       "    <tr>\n",
       "      <th>299621</th>\n",
       "      <td>2019-04-24</td>\n",
       "      <td>18-30</td>\n",
       "      <td>SMS</td>\n",
       "      <td>2</td>\n",
       "      <td>1</td>\n",
       "      <td>purchased</td>\n",
       "      <td>1</td>\n",
       "      <td>38</td>\n",
       "    </tr>\n",
       "    <tr>\n",
       "      <th>299626</th>\n",
       "      <td>2019-04-30</td>\n",
       "      <td>18-30</td>\n",
       "      <td>Email</td>\n",
       "      <td>2</td>\n",
       "      <td>1</td>\n",
       "      <td>purchased</td>\n",
       "      <td>2</td>\n",
       "      <td>76</td>\n",
       "    </tr>\n",
       "    <tr>\n",
       "      <th>299750</th>\n",
       "      <td>2019-04-07</td>\n",
       "      <td>31-45</td>\n",
       "      <td>Email</td>\n",
       "      <td>4</td>\n",
       "      <td>1</td>\n",
       "      <td>purchased</td>\n",
       "      <td>1</td>\n",
       "      <td>36</td>\n",
       "    </tr>\n",
       "    <tr>\n",
       "      <th>299866</th>\n",
       "      <td>2019-04-24</td>\n",
       "      <td>18-30</td>\n",
       "      <td>SMS</td>\n",
       "      <td>2</td>\n",
       "      <td>1</td>\n",
       "      <td>purchased</td>\n",
       "      <td>1</td>\n",
       "      <td>38</td>\n",
       "    </tr>\n",
       "  </tbody>\n",
       "</table>\n",
       "<p>1862 rows × 8 columns</p>\n",
       "</div>"
      ],
      "text/plain": [
       "         send_date age_range channel  coupon  clicked  last_step  nb_units  \\\n",
       "70      2019-04-25     18-30   Email       2        1  purchased         1   \n",
       "116     2019-05-01     31-45   Email       2        1  purchased         3   \n",
       "531     2019-04-14     18-30   Email       4        1  purchased         2   \n",
       "658     2019-04-03     46-60     SMS       2        1  purchased        30   \n",
       "664     2019-04-01     31-45   Email       4        1  purchased         1   \n",
       "...            ...       ...     ...     ...      ...        ...       ...   \n",
       "299608  2019-04-24     31-45   Email       4        1  purchased         2   \n",
       "299621  2019-04-24     18-30     SMS       2        1  purchased         1   \n",
       "299626  2019-04-30     18-30   Email       2        1  purchased         2   \n",
       "299750  2019-04-07     31-45   Email       4        1  purchased         1   \n",
       "299866  2019-04-24     18-30     SMS       2        1  purchased         1   \n",
       "\n",
       "        order_value  \n",
       "70               38  \n",
       "116             114  \n",
       "531              72  \n",
       "658            1194  \n",
       "664              36  \n",
       "...             ...  \n",
       "299608           72  \n",
       "299621           38  \n",
       "299626           76  \n",
       "299750           36  \n",
       "299866           38  \n",
       "\n",
       "[1862 rows x 8 columns]"
      ]
     },
     "execution_count": 27,
     "metadata": {},
     "output_type": "execute_result"
    }
   ],
   "source": [
    "# Filter out people who have purchased\n",
    "df_purchased = df[df['nb_units'] != 0]\n",
    "df_purchased"
   ]
  },
  {
   "cell_type": "code",
   "execution_count": 28,
   "id": "70634876",
   "metadata": {},
   "outputs": [
    {
     "data": {
      "text/html": [
       "<div>\n",
       "<style scoped>\n",
       "    .dataframe tbody tr th:only-of-type {\n",
       "        vertical-align: middle;\n",
       "    }\n",
       "\n",
       "    .dataframe tbody tr th {\n",
       "        vertical-align: top;\n",
       "    }\n",
       "\n",
       "    .dataframe thead th {\n",
       "        text-align: right;\n",
       "    }\n",
       "</style>\n",
       "<table border=\"1\" class=\"dataframe\">\n",
       "  <thead>\n",
       "    <tr style=\"text-align: right;\">\n",
       "      <th></th>\n",
       "      <th>send_date</th>\n",
       "      <th>age_range</th>\n",
       "      <th>channel</th>\n",
       "      <th>coupon</th>\n",
       "      <th>clicked</th>\n",
       "      <th>last_step</th>\n",
       "      <th>nb_units</th>\n",
       "      <th>order_value</th>\n",
       "    </tr>\n",
       "  </thead>\n",
       "  <tbody>\n",
       "    <tr>\n",
       "      <th>0</th>\n",
       "      <td>2019-04-25</td>\n",
       "      <td>18-30</td>\n",
       "      <td>Email</td>\n",
       "      <td>2</td>\n",
       "      <td>1</td>\n",
       "      <td>purchased</td>\n",
       "      <td>1</td>\n",
       "      <td>38</td>\n",
       "    </tr>\n",
       "    <tr>\n",
       "      <th>1</th>\n",
       "      <td>2019-05-01</td>\n",
       "      <td>31-45</td>\n",
       "      <td>Email</td>\n",
       "      <td>2</td>\n",
       "      <td>1</td>\n",
       "      <td>purchased</td>\n",
       "      <td>3</td>\n",
       "      <td>114</td>\n",
       "    </tr>\n",
       "    <tr>\n",
       "      <th>2</th>\n",
       "      <td>2019-04-14</td>\n",
       "      <td>18-30</td>\n",
       "      <td>Email</td>\n",
       "      <td>4</td>\n",
       "      <td>1</td>\n",
       "      <td>purchased</td>\n",
       "      <td>2</td>\n",
       "      <td>72</td>\n",
       "    </tr>\n",
       "    <tr>\n",
       "      <th>3</th>\n",
       "      <td>2019-04-03</td>\n",
       "      <td>46-60</td>\n",
       "      <td>SMS</td>\n",
       "      <td>2</td>\n",
       "      <td>1</td>\n",
       "      <td>purchased</td>\n",
       "      <td>30</td>\n",
       "      <td>1194</td>\n",
       "    </tr>\n",
       "    <tr>\n",
       "      <th>4</th>\n",
       "      <td>2019-04-01</td>\n",
       "      <td>31-45</td>\n",
       "      <td>Email</td>\n",
       "      <td>4</td>\n",
       "      <td>1</td>\n",
       "      <td>purchased</td>\n",
       "      <td>1</td>\n",
       "      <td>36</td>\n",
       "    </tr>\n",
       "    <tr>\n",
       "      <th>...</th>\n",
       "      <td>...</td>\n",
       "      <td>...</td>\n",
       "      <td>...</td>\n",
       "      <td>...</td>\n",
       "      <td>...</td>\n",
       "      <td>...</td>\n",
       "      <td>...</td>\n",
       "      <td>...</td>\n",
       "    </tr>\n",
       "    <tr>\n",
       "      <th>1857</th>\n",
       "      <td>2019-04-24</td>\n",
       "      <td>31-45</td>\n",
       "      <td>Email</td>\n",
       "      <td>4</td>\n",
       "      <td>1</td>\n",
       "      <td>purchased</td>\n",
       "      <td>2</td>\n",
       "      <td>72</td>\n",
       "    </tr>\n",
       "    <tr>\n",
       "      <th>1858</th>\n",
       "      <td>2019-04-24</td>\n",
       "      <td>18-30</td>\n",
       "      <td>SMS</td>\n",
       "      <td>2</td>\n",
       "      <td>1</td>\n",
       "      <td>purchased</td>\n",
       "      <td>1</td>\n",
       "      <td>38</td>\n",
       "    </tr>\n",
       "    <tr>\n",
       "      <th>1859</th>\n",
       "      <td>2019-04-30</td>\n",
       "      <td>18-30</td>\n",
       "      <td>Email</td>\n",
       "      <td>2</td>\n",
       "      <td>1</td>\n",
       "      <td>purchased</td>\n",
       "      <td>2</td>\n",
       "      <td>76</td>\n",
       "    </tr>\n",
       "    <tr>\n",
       "      <th>1860</th>\n",
       "      <td>2019-04-07</td>\n",
       "      <td>31-45</td>\n",
       "      <td>Email</td>\n",
       "      <td>4</td>\n",
       "      <td>1</td>\n",
       "      <td>purchased</td>\n",
       "      <td>1</td>\n",
       "      <td>36</td>\n",
       "    </tr>\n",
       "    <tr>\n",
       "      <th>1861</th>\n",
       "      <td>2019-04-24</td>\n",
       "      <td>18-30</td>\n",
       "      <td>SMS</td>\n",
       "      <td>2</td>\n",
       "      <td>1</td>\n",
       "      <td>purchased</td>\n",
       "      <td>1</td>\n",
       "      <td>38</td>\n",
       "    </tr>\n",
       "  </tbody>\n",
       "</table>\n",
       "<p>1862 rows × 8 columns</p>\n",
       "</div>"
      ],
      "text/plain": [
       "       send_date age_range channel  coupon  clicked  last_step  nb_units  \\\n",
       "0     2019-04-25     18-30   Email       2        1  purchased         1   \n",
       "1     2019-05-01     31-45   Email       2        1  purchased         3   \n",
       "2     2019-04-14     18-30   Email       4        1  purchased         2   \n",
       "3     2019-04-03     46-60     SMS       2        1  purchased        30   \n",
       "4     2019-04-01     31-45   Email       4        1  purchased         1   \n",
       "...          ...       ...     ...     ...      ...        ...       ...   \n",
       "1857  2019-04-24     31-45   Email       4        1  purchased         2   \n",
       "1858  2019-04-24     18-30     SMS       2        1  purchased         1   \n",
       "1859  2019-04-30     18-30   Email       2        1  purchased         2   \n",
       "1860  2019-04-07     31-45   Email       4        1  purchased         1   \n",
       "1861  2019-04-24     18-30     SMS       2        1  purchased         1   \n",
       "\n",
       "      order_value  \n",
       "0              38  \n",
       "1             114  \n",
       "2              72  \n",
       "3            1194  \n",
       "4              36  \n",
       "...           ...  \n",
       "1857           72  \n",
       "1858           38  \n",
       "1859           76  \n",
       "1860           36  \n",
       "1861           38  \n",
       "\n",
       "[1862 rows x 8 columns]"
      ]
     },
     "execution_count": 28,
     "metadata": {},
     "output_type": "execute_result"
    }
   ],
   "source": [
    "df_purchased = df_purchased.reset_index(drop = True)\n",
    "df_purchased"
   ]
  },
  {
   "cell_type": "code",
   "execution_count": 29,
   "id": "e0f5bb09",
   "metadata": {},
   "outputs": [
    {
     "data": {
      "text/html": [
       "<div>\n",
       "<style scoped>\n",
       "    .dataframe tbody tr th:only-of-type {\n",
       "        vertical-align: middle;\n",
       "    }\n",
       "\n",
       "    .dataframe tbody tr th {\n",
       "        vertical-align: top;\n",
       "    }\n",
       "\n",
       "    .dataframe thead th {\n",
       "        text-align: right;\n",
       "    }\n",
       "</style>\n",
       "<table border=\"1\" class=\"dataframe\">\n",
       "  <thead>\n",
       "    <tr style=\"text-align: right;\">\n",
       "      <th></th>\n",
       "      <th>send_date</th>\n",
       "      <th>age_range</th>\n",
       "      <th>channel</th>\n",
       "      <th>coupon</th>\n",
       "      <th>clicked</th>\n",
       "      <th>last_step</th>\n",
       "      <th>nb_units</th>\n",
       "      <th>order_value</th>\n",
       "      <th>net_profit</th>\n",
       "    </tr>\n",
       "  </thead>\n",
       "  <tbody>\n",
       "    <tr>\n",
       "      <th>0</th>\n",
       "      <td>2019-04-25</td>\n",
       "      <td>18-30</td>\n",
       "      <td>Email</td>\n",
       "      <td>2</td>\n",
       "      <td>1</td>\n",
       "      <td>purchased</td>\n",
       "      <td>1</td>\n",
       "      <td>38</td>\n",
       "      <td>19.925</td>\n",
       "    </tr>\n",
       "    <tr>\n",
       "      <th>1</th>\n",
       "      <td>2019-05-01</td>\n",
       "      <td>31-45</td>\n",
       "      <td>Email</td>\n",
       "      <td>2</td>\n",
       "      <td>1</td>\n",
       "      <td>purchased</td>\n",
       "      <td>3</td>\n",
       "      <td>114</td>\n",
       "      <td>95.925</td>\n",
       "    </tr>\n",
       "    <tr>\n",
       "      <th>2</th>\n",
       "      <td>2019-04-14</td>\n",
       "      <td>18-30</td>\n",
       "      <td>Email</td>\n",
       "      <td>4</td>\n",
       "      <td>1</td>\n",
       "      <td>purchased</td>\n",
       "      <td>2</td>\n",
       "      <td>72</td>\n",
       "      <td>53.925</td>\n",
       "    </tr>\n",
       "    <tr>\n",
       "      <th>3</th>\n",
       "      <td>2019-04-03</td>\n",
       "      <td>46-60</td>\n",
       "      <td>SMS</td>\n",
       "      <td>2</td>\n",
       "      <td>1</td>\n",
       "      <td>purchased</td>\n",
       "      <td>30</td>\n",
       "      <td>1194</td>\n",
       "      <td>1175.950</td>\n",
       "    </tr>\n",
       "    <tr>\n",
       "      <th>4</th>\n",
       "      <td>2019-04-01</td>\n",
       "      <td>31-45</td>\n",
       "      <td>Email</td>\n",
       "      <td>4</td>\n",
       "      <td>1</td>\n",
       "      <td>purchased</td>\n",
       "      <td>1</td>\n",
       "      <td>36</td>\n",
       "      <td>17.925</td>\n",
       "    </tr>\n",
       "    <tr>\n",
       "      <th>...</th>\n",
       "      <td>...</td>\n",
       "      <td>...</td>\n",
       "      <td>...</td>\n",
       "      <td>...</td>\n",
       "      <td>...</td>\n",
       "      <td>...</td>\n",
       "      <td>...</td>\n",
       "      <td>...</td>\n",
       "      <td>...</td>\n",
       "    </tr>\n",
       "    <tr>\n",
       "      <th>1857</th>\n",
       "      <td>2019-04-24</td>\n",
       "      <td>31-45</td>\n",
       "      <td>Email</td>\n",
       "      <td>4</td>\n",
       "      <td>1</td>\n",
       "      <td>purchased</td>\n",
       "      <td>2</td>\n",
       "      <td>72</td>\n",
       "      <td>53.925</td>\n",
       "    </tr>\n",
       "    <tr>\n",
       "      <th>1858</th>\n",
       "      <td>2019-04-24</td>\n",
       "      <td>18-30</td>\n",
       "      <td>SMS</td>\n",
       "      <td>2</td>\n",
       "      <td>1</td>\n",
       "      <td>purchased</td>\n",
       "      <td>1</td>\n",
       "      <td>38</td>\n",
       "      <td>19.950</td>\n",
       "    </tr>\n",
       "    <tr>\n",
       "      <th>1859</th>\n",
       "      <td>2019-04-30</td>\n",
       "      <td>18-30</td>\n",
       "      <td>Email</td>\n",
       "      <td>2</td>\n",
       "      <td>1</td>\n",
       "      <td>purchased</td>\n",
       "      <td>2</td>\n",
       "      <td>76</td>\n",
       "      <td>57.925</td>\n",
       "    </tr>\n",
       "    <tr>\n",
       "      <th>1860</th>\n",
       "      <td>2019-04-07</td>\n",
       "      <td>31-45</td>\n",
       "      <td>Email</td>\n",
       "      <td>4</td>\n",
       "      <td>1</td>\n",
       "      <td>purchased</td>\n",
       "      <td>1</td>\n",
       "      <td>36</td>\n",
       "      <td>17.925</td>\n",
       "    </tr>\n",
       "    <tr>\n",
       "      <th>1861</th>\n",
       "      <td>2019-04-24</td>\n",
       "      <td>18-30</td>\n",
       "      <td>SMS</td>\n",
       "      <td>2</td>\n",
       "      <td>1</td>\n",
       "      <td>purchased</td>\n",
       "      <td>1</td>\n",
       "      <td>38</td>\n",
       "      <td>19.950</td>\n",
       "    </tr>\n",
       "  </tbody>\n",
       "</table>\n",
       "<p>1862 rows × 9 columns</p>\n",
       "</div>"
      ],
      "text/plain": [
       "       send_date age_range channel  coupon  clicked  last_step  nb_units  \\\n",
       "0     2019-04-25     18-30   Email       2        1  purchased         1   \n",
       "1     2019-05-01     31-45   Email       2        1  purchased         3   \n",
       "2     2019-04-14     18-30   Email       4        1  purchased         2   \n",
       "3     2019-04-03     46-60     SMS       2        1  purchased        30   \n",
       "4     2019-04-01     31-45   Email       4        1  purchased         1   \n",
       "...          ...       ...     ...     ...      ...        ...       ...   \n",
       "1857  2019-04-24     31-45   Email       4        1  purchased         2   \n",
       "1858  2019-04-24     18-30     SMS       2        1  purchased         1   \n",
       "1859  2019-04-30     18-30   Email       2        1  purchased         2   \n",
       "1860  2019-04-07     31-45   Email       4        1  purchased         1   \n",
       "1861  2019-04-24     18-30     SMS       2        1  purchased         1   \n",
       "\n",
       "      order_value  net_profit  \n",
       "0              38      19.925  \n",
       "1             114      95.925  \n",
       "2              72      53.925  \n",
       "3            1194    1175.950  \n",
       "4              36      17.925  \n",
       "...           ...         ...  \n",
       "1857           72      53.925  \n",
       "1858           38      19.950  \n",
       "1859           76      57.925  \n",
       "1860           36      17.925  \n",
       "1861           38      19.950  \n",
       "\n",
       "[1862 rows x 9 columns]"
      ]
     },
     "execution_count": 29,
     "metadata": {},
     "output_type": "execute_result"
    }
   ],
   "source": [
    "# Add column \"net_profit\" to dataframe df_purchased\n",
    "nprofit = []\n",
    "for i in range(len(df_purchased)):\n",
    "    if df_purchased['channel'][i] == 'SMS':\n",
    "        nprofit.append(df_purchased['order_value'][i] - 18 - 0.05)\n",
    "    else:\n",
    "        nprofit.append(df_purchased['order_value'][i] - 18 - 0.075)\n",
    "\n",
    "df_purchased['net_profit'] = nprofit\n",
    "df_purchased"
   ]
  },
  {
   "cell_type": "code",
   "execution_count": 30,
   "id": "59b92796",
   "metadata": {},
   "outputs": [
    {
     "data": {
      "text/html": [
       "<div>\n",
       "<style scoped>\n",
       "    .dataframe tbody tr th:only-of-type {\n",
       "        vertical-align: middle;\n",
       "    }\n",
       "\n",
       "    .dataframe tbody tr th {\n",
       "        vertical-align: top;\n",
       "    }\n",
       "\n",
       "    .dataframe thead th {\n",
       "        text-align: right;\n",
       "    }\n",
       "</style>\n",
       "<table border=\"1\" class=\"dataframe\">\n",
       "  <thead>\n",
       "    <tr style=\"text-align: right;\">\n",
       "      <th></th>\n",
       "      <th>net_profit</th>\n",
       "    </tr>\n",
       "    <tr>\n",
       "      <th>channel</th>\n",
       "      <th></th>\n",
       "    </tr>\n",
       "  </thead>\n",
       "  <tbody>\n",
       "    <tr>\n",
       "      <th>Email</th>\n",
       "      <td>37188.9</td>\n",
       "    </tr>\n",
       "    <tr>\n",
       "      <th>SMS</th>\n",
       "      <td>45042.3</td>\n",
       "    </tr>\n",
       "  </tbody>\n",
       "</table>\n",
       "</div>"
      ],
      "text/plain": [
       "         net_profit\n",
       "channel            \n",
       "Email       37188.9\n",
       "SMS         45042.3"
      ]
     },
     "execution_count": 30,
     "metadata": {},
     "output_type": "execute_result"
    }
   ],
   "source": [
    "# Total net profit by channel\n",
    "net_profit_by_channel = pd.pivot_table(df_purchased, index = 'channel', values = 'net_profit', aggfunc = np.sum)\n",
    "net_profit_by_channel"
   ]
  },
  {
   "cell_type": "code",
   "execution_count": 31,
   "id": "b4daaf46",
   "metadata": {},
   "outputs": [
    {
     "data": {
      "text/plain": [
       "[54.77519481656598, 45.22480518343402]"
      ]
     },
     "execution_count": 31,
     "metadata": {},
     "output_type": "execute_result"
    }
   ],
   "source": [
    "# Percentage of net profit by channel\n",
    "nf_per_sms = 45042.3/(37188.9+45042.3) * 100\n",
    "nf_per_email = 100 - nf_per_sms\n",
    "[nf_per_sms, nf_per_email]"
   ]
  },
  {
   "cell_type": "code",
   "execution_count": 32,
   "id": "6f12f358",
   "metadata": {},
   "outputs": [
    {
     "data": {
      "image/png": "[encoded data removed]",
      "text/plain": [
       "<Figure size 432x288 with 1 Axes>"
      ]
     },
     "metadata": {},
     "output_type": "display_data"
    }
   ],
   "source": [
    "x = np.array(['nf_per_sms', 'nf_per_email'])\n",
    "y = np.array([54.77519481656598, 45.22480518343402])\n",
    "plt.pie(y, labels = x)\n",
    "plt.legend()\n",
    "plt.show()"
   ]
  },
  {
   "cell_type": "code",
   "execution_count": null,
   "id": "71368290",
   "metadata": {},
   "outputs": [],
   "source": []
  },
  {
   "cell_type": "code",
   "execution_count": 33,
   "id": "42d19619",
   "metadata": {},
   "outputs": [
    {
     "data": {
      "text/plain": [
       "[163511, 136489]"
      ]
     },
     "execution_count": 33,
     "metadata": {},
     "output_type": "execute_result"
    }
   ],
   "source": [
    "# Number of SMS/Emails sent\n",
    "sms = len(df[df['channel'] == 'SMS'])\n",
    "email = len(df[df['channel'] == 'Email'])\n",
    "[sms, email]"
   ]
  },
  {
   "cell_type": "code",
   "execution_count": 34,
   "id": "9ac7a84b",
   "metadata": {},
   "outputs": [
    {
     "data": {
      "text/plain": [
       "[550.9390805511556, 363.2908146444036]"
      ]
     },
     "execution_count": 34,
     "metadata": {},
     "output_type": "execute_result"
    }
   ],
   "source": [
    "# Calculate ROI (Return On Investment) \n",
    "# (percentage of net profit on total investment cost for the online campaign [SMS/Email])\n",
    "\n",
    "# ROI_SMS = (sum(net_profit_sms)/(0.05*163511) * 100\n",
    "# ROI_Email = (sum(net_profit_email)/(0.075*136489) * 100\n",
    "\n",
    "ROI_SMS = 45042.3/(0.05*163511) * 100\n",
    "ROI_Email = 37188.9/(0.075*136489) * 100\n",
    "[ROI_SMS, ROI_Email]"
   ]
  },
  {
   "cell_type": "code",
   "execution_count": null,
   "id": "0c62f948",
   "metadata": {},
   "outputs": [],
   "source": [
    "# Meaningful:\n",
    "# + For every 1$ spent on SMS advertising, the company earns a net profit of about 5.51$\n",
    "# + For every 1$ spent on Email advertising, the company earns a net profit of about 3.63$"
   ]
  },
  {
   "cell_type": "code",
   "execution_count": null,
   "id": "7c8721a2",
   "metadata": {},
   "outputs": [],
   "source": [
    "# Conclusion: \n",
    "# + From the above results, we see that SMS advertising brings more value to the company\n",
    "# + Percentage of net profit by channel: nf_per_sms = 54.78%, nf_per_email = 45.22%"
   ]
  },
  {
   "cell_type": "code",
   "execution_count": 35,
   "id": "0dc8e5fb",
   "metadata": {},
   "outputs": [],
   "source": [
    "# ---> Allocate 60000$ for two SMS and Email channels:\n",
    "\n",
    "sms_budget = 60000 * 0.5478\n",
    "email_budget = 60000 - sms_budget"
   ]
  },
  {
   "cell_type": "code",
   "execution_count": 36,
   "id": "019abd16",
   "metadata": {},
   "outputs": [
    {
     "data": {
      "text/plain": [
       "32868.0"
      ]
     },
     "execution_count": 36,
     "metadata": {},
     "output_type": "execute_result"
    }
   ],
   "source": [
    "sms_budget"
   ]
  },
  {
   "cell_type": "code",
   "execution_count": 37,
   "id": "09fe5afc",
   "metadata": {},
   "outputs": [
    {
     "data": {
      "text/plain": [
       "27132.0"
      ]
     },
     "execution_count": 37,
     "metadata": {},
     "output_type": "execute_result"
    }
   ],
   "source": [
    "email_budget"
   ]
  },
  {
   "cell_type": "code",
   "execution_count": 38,
   "id": "0937d91b",
   "metadata": {},
   "outputs": [
    {
     "data": {
      "text/html": [
       "<div>\n",
       "<style scoped>\n",
       "    .dataframe tbody tr th:only-of-type {\n",
       "        vertical-align: middle;\n",
       "    }\n",
       "\n",
       "    .dataframe tbody tr th {\n",
       "        vertical-align: top;\n",
       "    }\n",
       "\n",
       "    .dataframe thead th {\n",
       "        text-align: right;\n",
       "    }\n",
       "</style>\n",
       "<table border=\"1\" class=\"dataframe\">\n",
       "  <thead>\n",
       "    <tr style=\"text-align: right;\">\n",
       "      <th></th>\n",
       "      <th>nb_units</th>\n",
       "      <th>order_value</th>\n",
       "    </tr>\n",
       "    <tr>\n",
       "      <th>channel</th>\n",
       "      <th></th>\n",
       "      <th></th>\n",
       "    </tr>\n",
       "  </thead>\n",
       "  <tbody>\n",
       "    <tr>\n",
       "      <th>Email</th>\n",
       "      <td>1473</td>\n",
       "      <td>54324</td>\n",
       "    </tr>\n",
       "    <tr>\n",
       "      <th>SMS</th>\n",
       "      <td>1662</td>\n",
       "      <td>61540</td>\n",
       "    </tr>\n",
       "  </tbody>\n",
       "</table>\n",
       "</div>"
      ],
      "text/plain": [
       "         nb_units  order_value\n",
       "channel                       \n",
       "Email        1473        54324\n",
       "SMS          1662        61540"
      ]
     },
     "execution_count": 38,
     "metadata": {},
     "output_type": "execute_result"
    }
   ],
   "source": [
    "pv_units_order"
   ]
  },
  {
   "cell_type": "code",
   "execution_count": 39,
   "id": "079019ce",
   "metadata": {},
   "outputs": [
    {
     "data": {
      "text/html": [
       "<div>\n",
       "<style scoped>\n",
       "    .dataframe tbody tr th:only-of-type {\n",
       "        vertical-align: middle;\n",
       "    }\n",
       "\n",
       "    .dataframe tbody tr th {\n",
       "        vertical-align: top;\n",
       "    }\n",
       "\n",
       "    .dataframe thead th {\n",
       "        text-align: right;\n",
       "    }\n",
       "</style>\n",
       "<table border=\"1\" class=\"dataframe\">\n",
       "  <thead>\n",
       "    <tr style=\"text-align: right;\">\n",
       "      <th></th>\n",
       "      <th></th>\n",
       "      <th>nb_units</th>\n",
       "    </tr>\n",
       "    <tr>\n",
       "      <th>channel</th>\n",
       "      <th>age_range</th>\n",
       "      <th></th>\n",
       "    </tr>\n",
       "  </thead>\n",
       "  <tbody>\n",
       "    <tr>\n",
       "      <th rowspan=\"4\" valign=\"top\">Email</th>\n",
       "      <th>18-30</th>\n",
       "      <td>422</td>\n",
       "    </tr>\n",
       "    <tr>\n",
       "      <th>31-45</th>\n",
       "      <td>877</td>\n",
       "    </tr>\n",
       "    <tr>\n",
       "      <th>46-60</th>\n",
       "      <td>170</td>\n",
       "    </tr>\n",
       "    <tr>\n",
       "      <th>60+</th>\n",
       "      <td>4</td>\n",
       "    </tr>\n",
       "    <tr>\n",
       "      <th rowspan=\"4\" valign=\"top\">SMS</th>\n",
       "      <th>18-30</th>\n",
       "      <td>770</td>\n",
       "    </tr>\n",
       "    <tr>\n",
       "      <th>31-45</th>\n",
       "      <td>357</td>\n",
       "    </tr>\n",
       "    <tr>\n",
       "      <th>46-60</th>\n",
       "      <td>525</td>\n",
       "    </tr>\n",
       "    <tr>\n",
       "      <th>60+</th>\n",
       "      <td>10</td>\n",
       "    </tr>\n",
       "  </tbody>\n",
       "</table>\n",
       "</div>"
      ],
      "text/plain": [
       "                   nb_units\n",
       "channel age_range          \n",
       "Email   18-30           422\n",
       "        31-45           877\n",
       "        46-60           170\n",
       "        60+               4\n",
       "SMS     18-30           770\n",
       "        31-45           357\n",
       "        46-60           525\n",
       "        60+              10"
      ]
     },
     "execution_count": 39,
     "metadata": {},
     "output_type": "execute_result"
    }
   ],
   "source": [
    "bb = pd.pivot_table(df, index = ['channel', 'age_range'], values = 'nb_units', aggfunc = np.sum)\n",
    "bb"
   ]
  },
  {
   "cell_type": "code",
   "execution_count": null,
   "id": "866e7c30",
   "metadata": {},
   "outputs": [],
   "source": [
    "# ---> Allocate the budget to each channel SMS/Email for each age group"
   ]
  },
  {
   "cell_type": "code",
   "execution_count": 40,
   "id": "5566b383",
   "metadata": {},
   "outputs": [
    {
     "data": {
      "text/plain": [
       "[15227.653429602888, 7060.093862815885, 10382.490974729242, 197.76173285198638]"
      ]
     },
     "execution_count": 40,
     "metadata": {},
     "output_type": "execute_result"
    }
   ],
   "source": [
    "# SMS\n",
    "s_18_30 = 32868*(770/1662)\n",
    "s_31_45 = 32868*(357/1662)\n",
    "s_46_60 = 32868*(525/1662)\n",
    "s_over60 = 32868 - s_18_30 - s_31_45 - s_46_60\n",
    "[s_18_30, s_31_45, s_46_60, s_over60]"
   ]
  },
  {
   "cell_type": "code",
   "execution_count": 41,
   "id": "e8df134b",
   "metadata": {},
   "outputs": [
    {
     "data": {
      "text/plain": [
       "[7773.050916496945, 16153.94704684318, 3131.3238289205706, 73.67820773930589]"
      ]
     },
     "execution_count": 41,
     "metadata": {},
     "output_type": "execute_result"
    }
   ],
   "source": [
    "# Email\n",
    "e_18_30 = 27132*(422/1473)\n",
    "e_31_45 = 27132*(877/1473)\n",
    "e_46_60 = 27132*(170/1473)\n",
    "e_over60 = 27132 - e_18_30 - e_31_45 - e_46_60\n",
    "[e_18_30, e_31_45, e_46_60, e_over60]"
   ]
  },
  {
   "cell_type": "code",
   "execution_count": 42,
   "id": "8f078e2d",
   "metadata": {},
   "outputs": [
    {
     "data": {
      "text/html": [
       "<div>\n",
       "<style scoped>\n",
       "    .dataframe tbody tr th:only-of-type {\n",
       "        vertical-align: middle;\n",
       "    }\n",
       "\n",
       "    .dataframe tbody tr th {\n",
       "        vertical-align: top;\n",
       "    }\n",
       "\n",
       "    .dataframe thead th {\n",
       "        text-align: right;\n",
       "    }\n",
       "</style>\n",
       "<table border=\"1\" class=\"dataframe\">\n",
       "  <thead>\n",
       "    <tr style=\"text-align: right;\">\n",
       "      <th></th>\n",
       "      <th>channel</th>\n",
       "      <th>age_range</th>\n",
       "      <th>budget ($)</th>\n",
       "    </tr>\n",
       "  </thead>\n",
       "  <tbody>\n",
       "    <tr>\n",
       "      <th>0</th>\n",
       "      <td>SMS</td>\n",
       "      <td>18-30</td>\n",
       "      <td>15228</td>\n",
       "    </tr>\n",
       "    <tr>\n",
       "      <th>1</th>\n",
       "      <td>SMS</td>\n",
       "      <td>31-45</td>\n",
       "      <td>7060</td>\n",
       "    </tr>\n",
       "    <tr>\n",
       "      <th>2</th>\n",
       "      <td>SMS</td>\n",
       "      <td>46-60</td>\n",
       "      <td>10382</td>\n",
       "    </tr>\n",
       "    <tr>\n",
       "      <th>3</th>\n",
       "      <td>SMS</td>\n",
       "      <td>60+</td>\n",
       "      <td>198</td>\n",
       "    </tr>\n",
       "    <tr>\n",
       "      <th>4</th>\n",
       "      <td>Email</td>\n",
       "      <td>18-30</td>\n",
       "      <td>7773</td>\n",
       "    </tr>\n",
       "    <tr>\n",
       "      <th>5</th>\n",
       "      <td>Email</td>\n",
       "      <td>31-45</td>\n",
       "      <td>16154</td>\n",
       "    </tr>\n",
       "    <tr>\n",
       "      <th>6</th>\n",
       "      <td>Email</td>\n",
       "      <td>46-60</td>\n",
       "      <td>3131</td>\n",
       "    </tr>\n",
       "    <tr>\n",
       "      <th>7</th>\n",
       "      <td>Email</td>\n",
       "      <td>60+</td>\n",
       "      <td>74</td>\n",
       "    </tr>\n",
       "  </tbody>\n",
       "</table>\n",
       "</div>"
      ],
      "text/plain": [
       "  channel age_range  budget ($)\n",
       "0     SMS     18-30       15228\n",
       "1     SMS     31-45        7060\n",
       "2     SMS     46-60       10382\n",
       "3     SMS       60+         198\n",
       "4   Email     18-30        7773\n",
       "5   Email     31-45       16154\n",
       "6   Email     46-60        3131\n",
       "7   Email       60+          74"
      ]
     },
     "execution_count": 42,
     "metadata": {},
     "output_type": "execute_result"
    }
   ],
   "source": [
    "# Allocation Table:\n",
    "\n",
    "allocation_table = [['SMS', '18-30', 15228], ['SMS', '31-45', 7060], ['SMS', '46-60', 10382], ['SMS', '60+', 198], ['Email', '18-30', 7773], ['Email', '31-45', 16154], ['Email', '46-60', 3131], ['Email', '60+', 74]]\n",
    "pd.DataFrame(allocation_table, columns = ['channel', 'age_range', 'budget ($)'])"
   ]
  },
  {
   "cell_type": "code",
   "execution_count": null,
   "id": "53c146c7",
   "metadata": {},
   "outputs": [],
   "source": []
  },
  {
   "cell_type": "code",
   "execution_count": null,
   "id": "2afee80b",
   "metadata": {},
   "outputs": [],
   "source": [
    "# b) Question: Now assume that you are also responsible for the operation of the company’s website. \n",
    "# Do you have any comments or suggestions so that we can improve the website’s performance in order to maximize net profit?\n",
    "\n",
    "\n",
    "# => We need to find out how customers abandons the website and the reason for it\n",
    "# => Analyze what actions customers usually take before leaving the website, find the cause and provide solutions"
   ]
  },
  {
   "cell_type": "code",
   "execution_count": null,
   "id": "284f0412",
   "metadata": {},
   "outputs": [],
   "source": []
  },
  {
   "cell_type": "code",
   "execution_count": 51,
   "id": "e4362101",
   "metadata": {},
   "outputs": [
    {
     "data": {
      "text/plain": [
       "[282234, 6950, 5252, 2753, 949, 1862]"
      ]
     },
     "execution_count": 51,
     "metadata": {},
     "output_type": "execute_result"
    }
   ],
   "source": [
    "# Customers' action before they leave the website\n",
    "received = len(df[df['last_step'] == 'received'])\n",
    "bounced = len(df[df['last_step'] == 'bounced'])\n",
    "saw_review = len(df[df['last_step'] == 'saw review'])\n",
    "added_to_cart = len(df[df['last_step'] == 'added to cart'])\n",
    "payment_page = len(df[df['last_step'] == 'payment page'])\n",
    "purchased = len(df[df['last_step'] == 'purchased'])\n",
    "[received, bounced, saw_review, added_to_cart, payment_page, purchased]"
   ]
  },
  {
   "cell_type": "code",
   "execution_count": 52,
   "id": "e2524189",
   "metadata": {},
   "outputs": [
    {
     "data": {
      "text/plain": [
       "10.480693459416864"
      ]
     },
     "execution_count": 52,
     "metadata": {},
     "output_type": "execute_result"
    }
   ],
   "source": [
    "# First, calculate the Conversion Rate\n",
    "# Conversion Rate = The ratio of shoppers to the total number of people who clicked on the link leading to the website\n",
    "# = purchased/(bounced + saw review + added to cart + payment + purchased)\n",
    "\n",
    "conversion_rate = 1862/(6950+5252+2753+949+1862) * 100\n",
    "conversion_rate"
   ]
  },
  {
   "cell_type": "code",
   "execution_count": null,
   "id": "8a8d8028",
   "metadata": {},
   "outputs": [],
   "source": [
    "# => Website conversion rate is about 10.5%, this is a low rate\n",
    "\n",
    "# => We need to measure the performance of the website"
   ]
  },
  {
   "cell_type": "code",
   "execution_count": 53,
   "id": "a795886e",
   "metadata": {},
   "outputs": [
    {
     "data": {
      "image/png": "[encoded data removed]",
      "text/plain": [
       "<Figure size 432x288 with 1 Axes>"
      ]
     },
     "metadata": {
      "needs_background": "light"
     },
     "output_type": "display_data"
    }
   ],
   "source": [
    "x = np.array(['received', 'bounced', 'saw_review', 'added_to_cart', 'payment_page', 'purchased'])\n",
    "y = np.array([282234, 6950, 5252, 2753, 949, 1862])\n",
    "plt.bar(x,y)\n",
    "plt.show()"
   ]
  },
  {
   "cell_type": "code",
   "execution_count": null,
   "id": "b69c9f54",
   "metadata": {},
   "outputs": [],
   "source": [
    "# => Most SMS/Email were sent but not clicked\n",
    "\n",
    "# Some reasons why most customers don't click and solutions:\n",
    "# + SMS/Email may be pushed to spam folder \n",
    "# + External content and headlines are not attract users, which makes them ignore our SMS/Email \n",
    "# ---> Adjusted the title and appearance of the SMS/Email that arouse the curiosity of the user"
   ]
  },
  {
   "cell_type": "code",
   "execution_count": 54,
   "id": "3ccac40f",
   "metadata": {},
   "outputs": [
    {
     "data": {
      "text/plain": [
       "39.11966677924125"
      ]
     },
     "execution_count": 54,
     "metadata": {},
     "output_type": "execute_result"
    }
   ],
   "source": [
    "# Bounce rate to total website clicks\n",
    "# This is an important metric, used to determine if a website is performing well\n",
    "# bounce_rate = bounced/(bounced + saw review + added to cart + payment page + purchased)\n",
    "\n",
    "bounce_rate = 6950/(6950+5252+2753+949+1862) * 100\n",
    "bounce_rate"
   ]
  },
  {
   "cell_type": "code",
   "execution_count": null,
   "id": "7d2f108d",
   "metadata": {},
   "outputs": [],
   "source": [
    "# => Bounce rate is very high, here are some reasons:\n",
    "# + The content on the website is not attractive\n",
    "# + Website UX/UI is not friendly to users\n",
    "# + The landing page doesn't have what visitors expect when they arrive\n",
    "# + Customers are not interested in the product"
   ]
  },
  {
   "cell_type": "code",
   "execution_count": 55,
   "id": "be0b2239",
   "metadata": {},
   "outputs": [
    {
     "data": {
      "text/plain": [
       "25.634792004321987"
      ]
     },
     "execution_count": 55,
     "metadata": {},
     "output_type": "execute_result"
    }
   ],
   "source": [
    "# The ratio of people who dropped out of the payment to the total number of people who added to the cart\n",
    "# = payment/(added to cart + payment)\n",
    "\n",
    "drop_pay = 949/(2753+949) * 100\n",
    "drop_pay"
   ]
  },
  {
   "cell_type": "code",
   "execution_count": null,
   "id": "c6017520",
   "metadata": {},
   "outputs": [],
   "source": [
    "# => This ratio is high. Customers dropping out of the payment can be due to the following reasons:\n",
    "# + Complicated online payment process.\n",
    "# + Unable to cause reliability when customers enter payment information, customers are concerned about payment security. \n",
    "# ---> Need to build a website security system to ensure that customer information will be secure.\n",
    "# + Information about Shipping Policy and Return Policy is not clear.\n",
    "# ---> There should be a clear Shipping Policy and Return Policy, ensuring the right of customers."
   ]
  },
  {
   "cell_type": "code",
   "execution_count": null,
   "id": "1ef589f5",
   "metadata": {},
   "outputs": [],
   "source": []
  },
  {
   "cell_type": "code",
   "execution_count": null,
   "id": "42839e83",
   "metadata": {},
   "outputs": [],
   "source": [
    "# 4) Conclusion"
   ]
  },
  {
   "cell_type": "code",
   "execution_count": null,
   "id": "e5737fab",
   "metadata": {},
   "outputs": [],
   "source": [
    "# The value of the coupon does affect the customers' awareness of our product but not the customers buying behavior\n",
    "# Age group 18-30, 46-60 and 60+ often click on links in SMS more than in Email, the age group 31-45 often clicks on links in Email more\n",
    "# The 18-30 and 31-45 age groups have a much higher demand for products than the other two age groups\n",
    "# SMS advertising brings more value to the company\n",
    "\n",
    "# Most SMS/Email were sent but not clicked\n",
    "# The conversion rate of the website is quite low (~10.5%)\n",
    "# Bounce rate is very high (~39%)\n",
    "# The ratio of people who dropped out of the payment (~25.6%)"
   ]
  },
  {
   "cell_type": "code",
   "execution_count": null,
   "id": "44c91c02",
   "metadata": {},
   "outputs": [],
   "source": [
    "# Suggestions and recommendations for website:\n",
    "\n",
    "# + Company needs to upgrade and improve the content on the website.\n",
    "# + Adjusted the title and appearance of the SMS/Email that arouse the curiosity of the user.\n",
    "# + Build a website security system to ensure that customer information will be secure.\n",
    "# + Clear Shipping Policy and Return Policy, ensuring the right of customers."
   ]
  },
  {
   "cell_type": "code",
   "execution_count": null,
   "id": "18141707",
   "metadata": {},
   "outputs": [],
   "source": []
  }
 ],
 "metadata": {
  "kernelspec": {
   "display_name": "Python 3 (ipykernel)",
   "language": "python",
   "name": "python3"
  },
  "language_info": {
   "codemirror_mode": {
    "name": "ipython",
    "version": 3
   },
   "file_extension": ".py",
   "mimetype": "text/x-python",
   "name": "python",
   "nbconvert_exporter": "python",
   "pygments_lexer": "ipython3",
   "version": "3.9.12"
  }
 },
 "nbformat": 4,
 "nbformat_minor": 5
}
